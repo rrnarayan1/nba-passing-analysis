{
 "cells": [
  {
   "cell_type": "code",
   "execution_count": 36,
   "metadata": {},
   "outputs": [],
   "source": [
    "import numpy as np\n",
    "import matplotlib.pyplot as plt\n",
    "import json\n",
    "import networkx as nx\n",
    "import scipy.stats\n",
    "\n",
    "franchises = {\"Brooklyn Nets\": 1610612751, \"Minnesota Timberwolves\":1610612750 ,\"Golden State Warriors\": 1610612744, \n",
    "              \"Los Angeles Clippers\": 1610612746, \"Los Angeles Lakers\": 1610612747, \"Washington Wizards\": 1610612764, \n",
    "              \"Milwaukee Bucks\": 1610612749, \"Toronto Raptors\": 1610612761, \"Philadelphia 76ers\": 1610612755 , \n",
    "              \"Boston Celtics\":1610612738 ,  \"Orlando Magic\": 1610612753, \"Atlanta Hawks\":1610612737,\n",
    "              \"Houston Rockets\": 1610612745 , \"San Antontio Spurs\":  1610612759, \"New Orleans Pelicans\": 1610612740, \n",
    "              \"Pheonix Suns\": 1610612756, \"Sacramento Kings\": 1610612758, \"Portland Trailblazers\": 1610612757, \n",
    "              \"Denver Nuggets\":1610612743 , \"Memphis Grizzlies\": 1610612763, \"Miami Heat\":1610612748, \n",
    "              \"Cleveland Cavaliers\": 1610612739, \"Charlotte Hornets\":1610612766, \"Chicago Bulls\": 1610612741, \n",
    "              \"New York Knicks\": 1610612752, \"Indiana Pacers\":1610612754 , \"Utah Jazz\":1610612762 , \n",
    "              \"Detroit Pistons\": 1610612765, \"Dallas Mavericks\": 1610612742, \"Oklahoma City Thunder\": 1610612760,  \n",
    "             }\n",
    "num_wins = {\"Brooklyn Nets\": 28, \n",
    "              \"Minnesota Timberwolves\":47 ,\n",
    "              \"Golden State Warriors\": 58, \n",
    "              \"Los Angeles Clippers\": 42, \n",
    "              \"Los Angeles Lakers\": 35, \n",
    "              \"Washington Wizards\": 43, \n",
    "              \"Milwaukee Bucks\": 44, \n",
    "              \"Toronto Raptors\": 59, \n",
    "              \"Philadelphia 76ers\": 52 , \n",
    "              \"Boston Celtics\":55 ,  \n",
    "              \"Orlando Magic\": 29, \"Atlanta Hawks\":24,\n",
    "              \"Houston Rockets\": 65, \n",
    "              \"San Antontio Spurs\":  47, \n",
    "              \"New Orleans Pelicans\": 48, \n",
    "              \"Pheonix Suns\": 21, \n",
    "              \"Sacramento Kings\": 27, \n",
    "              \"Portland Trailblazers\": 49, \n",
    "              \"Denver Nuggets\":46 , \n",
    "              \"Memphis Grizzlies\": 22, \n",
    "              \"Miami Heat\":44, \n",
    "              \"Cleveland Cavaliers\": 50, \n",
    "              \"Charlotte Hornets\":36,\n",
    "              \"Chicago Bulls\": 27, \n",
    "              \"New York Knicks\": 29, \n",
    "              \"Indiana Pacers\":48 , \n",
    "              \"Utah Jazz\":48 , \n",
    "              \"Detroit Pistons\": 39, \n",
    "              \"Dallas Mavericks\": 24, \"Oklahoma City Thunder\": 48,  \n",
    "             }\n",
    "players = {}\n",
    "ids = {}\n",
    "teams = {}\n",
    "with open(\"data/players.json\") as f:\n",
    "    data = json.load(f)\n",
    "\n",
    "for row in data:\n",
    "    if (row['lastName'] == \"\"):\n",
    "        name = row[\"firstName\"]\n",
    "    else:\n",
    "        name = row['lastName']+\", \"+row[\"firstName\"]\n",
    "    iden = str(row['playerId'])\n",
    "    players[name] = iden\n",
    "    ids[iden] = name\n",
    "    teams[iden] = row['teamId']\n",
    "def degrees_passing(team_id, win):\n",
    "    out_deg = {}\n",
    "    in_deg = {}\n",
    "    tots = {}\n",
    "    for name in players:\n",
    "        iden = players[name]\n",
    "        if (teams[iden] != team_id):\n",
    "            continue\n",
    "        if (iden not in out_deg):\n",
    "            out_deg[iden] = 0\n",
    "        if (win == True):\n",
    "            fname = \"data/\"+players[name]+\"-passing-win.json\"\n",
    "        elif (win == False):\n",
    "            fname = \"data/\"+players[name]+\"-passing-loss.json\"\n",
    "        else:\n",
    "            fname = \"data/\"+players[name]+\"-passing.json\"\n",
    "    \n",
    "        with open(fname, \"r\") as f:\n",
    "            data = json.load(f)\n",
    "        for key in data:\n",
    "            if (teams[key] != team_id):\n",
    "                continue\n",
    "            out_deg[iden] += data[key][0]\n",
    "            if (key not in in_deg):\n",
    "                in_deg[key] = 0\n",
    "            in_deg[key] += data[key][0]\n",
    "\n",
    "    for key in in_deg:\n",
    "        tots[key] = in_deg[key]+out_deg[key]\n",
    "     \n",
    "    active_vals = sorted(tots.values(), reverse=True)[:]\n",
    "    active = []\n",
    "    for fl in tots:\n",
    "        if tots[fl] in active_vals:\n",
    "            active.append(fl)\n",
    "    pl_ids = list(in_deg)\n",
    "    for key in pl_ids:\n",
    "        if key not in active:\n",
    "            del out_deg[key]\n",
    "            del in_deg[key]\n",
    "    \n",
    "    return out_deg, in_deg\n",
    "\n",
    "def show_graph(G, widths, labels):\n",
    "    plt.figure(figsize=(10,10))\n",
    "    pos = nx.circular_layout(G)\n",
    "    nx.draw_networkx_edges(G, pos, width=widths)\n",
    "    nx.draw_networkx_nodes(G, pos, node_size=50)\n",
    "    nx.draw_networkx_labels(G,pos,labels, font_size=6)"
   ]
  },
  {
   "cell_type": "code",
   "execution_count": 37,
   "metadata": {},
   "outputs": [
    {
     "data": {
      "image/png": "[encoded data removed]",
      "text/plain": [
       "<Figure size 432x288 with 1 Axes>"
      ]
     },
     "metadata": {
      "needs_background": "light"
     },
     "output_type": "display_data"
    },
    {
     "data": {
      "image/png": "[encoded data removed]",
      "text/plain": [
       "<Figure size 432x288 with 1 Axes>"
      ]
     },
     "metadata": {
      "needs_background": "light"
     },
     "output_type": "display_data"
    }
   ],
   "source": [
    "diff_o=[]\n",
    "diff_i=[]\n",
    "for team in franchises:\n",
    "    outw,innw = degrees_passing(franchises[team], True)\n",
    "    outl,innl = degrees_passing(franchises[team], False)\n",
    "    diff_o.append(np.mean(list(outw.values())) - np.mean(list(outl.values())))\n",
    "    diff_i.append(np.mean(list(innw.values())) - np.mean(list(innl.values())))\n",
    "\n",
    "plt.hist(diff_o)\n",
    "plt.show()\n",
    "plt.hist(diff_i)\n",
    "plt.show()"
   ]
  },
  {
   "cell_type": "markdown",
   "metadata": {},
   "source": [
    "Notes about this: one entry in in_deg and out_deg for each person on the team.\n",
    "\n",
    "This shows that there really is no difference in passing if the team wins or loses."
   ]
  },
  {
   "cell_type": "code",
   "execution_count": null,
   "metadata": {},
   "outputs": [],
   "source": []
  }
 ],
 "metadata": {
  "kernelspec": {
   "display_name": "Python 3",
   "language": "python",
   "name": "python3"
  },
  "language_info": {
   "codemirror_mode": {
    "name": "ipython",
    "version": 3
   },
   "file_extension": ".py",
   "mimetype": "text/x-python",
   "name": "python",
   "nbconvert_exporter": "python",
   "pygments_lexer": "ipython3",
   "version": "3.7.0"
  }
 },
 "nbformat": 4,
 "nbformat_minor": 2
}
