{
 "cells": [
  {
   "cell_type": "code",
   "execution_count": 1,
   "metadata": {},
   "outputs": [],
   "source": [
    "import numpy as np\n",
    "import matplotlib.pyplot as plt\n",
    "import json\n",
    "import networkx as nx"
   ]
  },
  {
   "cell_type": "code",
   "execution_count": 2,
   "metadata": {},
   "outputs": [],
   "source": [
    "players = {}\n",
    "ids = {}\n",
    "teams = {}\n",
    "with open(\"data/players.json\") as f:\n",
    "    data = json.load(f)\n",
    "\n",
    "for row in data:\n",
    "    if (row['lastName'] == \"\"):\n",
    "        name = row[\"firstName\"]\n",
    "    else:\n",
    "        name = row['lastName']+\", \"+row[\"firstName\"]\n",
    "    iden = str(row['playerId'])\n",
    "    players[name] = iden\n",
    "    ids[iden] = name\n",
    "    teams[iden] = row['teamId']"
   ]
  },
  {
   "cell_type": "code",
   "execution_count": 3,
   "metadata": {},
   "outputs": [],
   "source": [
    "def degrees_passing(team_id, win):\n",
    "    G = nx.DiGraph()\n",
    "    labels = {}\n",
    "    widths = []\n",
    "    out_deg = {}\n",
    "    in_deg = {}\n",
    "    for name in players:\n",
    "        iden = players[name]\n",
    "        if (teams[iden] != team_id):\n",
    "            continue\n",
    "        if (iden not in out_deg):\n",
    "            out_deg[iden] = 0\n",
    "        if (win == True):\n",
    "            fname = \"data/\"+players[name]+\"-passing-win.json\"\n",
    "        elif (win == False):\n",
    "            fname = \"data/\"+players[name]+\"-passing-loss.json\"\n",
    "        else:\n",
    "            fname = \"data/\"+players[name]+\"-passing.json\"\n",
    "    \n",
    "        with open(fname, \"r\") as f:\n",
    "            data = json.load(f)\n",
    "        labels[iden] = name\n",
    "        for key in data:\n",
    "            if (teams[key] != team_id):\n",
    "                continue\n",
    "            out_deg[iden] += data[key][0]\n",
    "            if (key not in in_deg):\n",
    "                in_deg[key] = 0\n",
    "            in_deg[key] += data[key][0]\n",
    "            widths.append(data[key][0]/20.0)\n",
    "            G.add_edge(iden, key, weight = data[key][0])\n",
    "            labels[key] = ids[key]\n",
    "    return out_deg, in_deg, G, widths, labels\n",
    "\n",
    "def show_graph(G, widths, labels):\n",
    "    plt.figure(figsize=(10,10))\n",
    "    pos = nx.circular_layout(G)\n",
    "    nx.draw_networkx_edges(G, pos, width=widths)\n",
    "    nx.draw_networkx_nodes(G, pos, node_size=50)\n",
    "    nx.draw_networkx_labels(G,pos,labels, font_size=6)"
   ]
  },
  {
   "cell_type": "code",
   "execution_count": 4,
   "metadata": {},
   "outputs": [],
   "source": [
    "team_id = 1610612762"
   ]
  },
  {
   "cell_type": "code",
   "execution_count": 5,
   "metadata": {},
   "outputs": [
    {
     "data": {
      "image/png": "[encoded data removed]",
      "text/plain": [
       "<Figure size 432x288 with 1 Axes>"
      ]
     },
     "metadata": {},
     "output_type": "display_data"
    },
    {
     "data": {
      "image/png": "[encoded data removed]",
      "text/plain": [
       "<Figure size 432x288 with 1 Axes>"
      ]
     },
     "metadata": {},
     "output_type": "display_data"
    }
   ],
   "source": [
    "out,inn, G, width, labels = degrees_passing(team_id, None)\n",
    "plt.hist(list(out.values()))\n",
    "plt.show()\n",
    "plt.hist(list(inn.values()))\n",
    "plt.show()\n",
    "#show_graph(G, width, labels)"
   ]
  },
  {
   "cell_type": "code",
   "execution_count": 6,
   "metadata": {},
   "outputs": [
    {
     "data": {
      "image/png": "[encoded data removed]",
      "text/plain": [
       "<Figure size 432x288 with 1 Axes>"
      ]
     },
     "metadata": {},
     "output_type": "display_data"
    },
    {
     "data": {
      "image/png": "[encoded data removed]",
      "text/plain": [
       "<Figure size 432x288 with 1 Axes>"
      ]
     },
     "metadata": {},
     "output_type": "display_data"
    }
   ],
   "source": [
    "out,inn, G, width, labels = degrees_passing(team_id, True)\n",
    "plt.hist(list(out.values()))\n",
    "plt.show()\n",
    "plt.hist(list(inn.values()))\n",
    "plt.show()"
   ]
  },
  {
   "cell_type": "code",
   "execution_count": 86,
   "metadata": {},
   "outputs": [
    {
     "data": {
      "image/png": "[encoded data removed]",
      "text/plain": [
       "<Figure size 432x288 with 1 Axes>"
      ]
     },
     "metadata": {
      "needs_background": "light"
     },
     "output_type": "display_data"
    },
    {
     "data": {
      "image/png": "[encoded data removed]",
      "text/plain": [
       "<Figure size 432x288 with 1 Axes>"
      ]
     },
     "metadata": {
      "needs_background": "light"
     },
     "output_type": "display_data"
    }
   ],
   "source": [
    "out,inn, G, width, labels = degrees_passing(team_id, False)\n",
    "plt.hist(list(out.values()))\n",
    "plt.show()\n",
    "plt.hist(list(inn.values()))\n",
    "plt.show()"
   ]
  },
  {
   "cell_type": "code",
   "execution_count": null,
   "metadata": {},
   "outputs": [],
   "source": []
  }
 ],
 "metadata": {
  "kernelspec": {
   "display_name": "Python 3",
   "language": "python",
   "name": "python3"
  },
  "language_info": {
   "codemirror_mode": {
    "name": "ipython",
    "version": 3
   },
   "file_extension": ".py",
   "mimetype": "text/x-python",
   "name": "python",
   "nbconvert_exporter": "python",
   "pygments_lexer": "ipython3",
   "version": "3.6.2"
  }
 },
 "nbformat": 4,
 "nbformat_minor": 2
}
