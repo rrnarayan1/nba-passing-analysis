{
 "cells": [
  {
   "cell_type": "code",
   "execution_count": 4,
   "metadata": {},
   "outputs": [],
   "source": [
    "import numpy as np\n",
    "import matplotlib.pyplot as plt\n",
    "import json\n",
    "import networkx as nx"
   ]
  },
  {
   "cell_type": "code",
   "execution_count": 5,
   "metadata": {},
   "outputs": [],
   "source": [
    "players = {}\n",
    "ids = {}\n",
    "teams = {}\n",
    "with open(\"data/players.json\") as f:\n",
    "    data = json.load(f)\n",
    "\n",
    "for row in data:\n",
    "    if (row['lastName'] == \"\"):\n",
    "        name = row[\"firstName\"]\n",
    "    else:\n",
    "        name = row['lastName']+\", \"+row[\"firstName\"]\n",
    "    iden = str(row['playerId'])\n",
    "    players[name] = iden\n",
    "    ids[iden] = name\n",
    "    teams[iden] = row['teamId']\n",
    "\n",
    "franchises = {\"Brooklyn Nets\": 1610612751, \"Minnesota Timberwolves\":1610612750 ,\"Golden State Warriors\": 1610612744, \n",
    "              \"Los Angeles Clippers\": 1610612746, \"Los Angeles Lakers\": 1610612747, \"Washington Wizards\": 1610612764, \n",
    "              \"Milwaukee Bucks\": 1610612749, \"Toronto Raptors\": 1610612761, \"Philadelphia 76ers\": 1610612755 , \n",
    "              \"Boston Celtics\":1610612738 ,  \"Orlando Magic\": 1610612753, \"Atlanta Hawks\":1610612737,\n",
    "              \"Houston Rockets\": 1610612745 , \"San Antontio Spurs\":  1610612759, \"New Orleans Pelicans\": 1610612740, \n",
    "              \"Pheonix Suns\": 1610612756, \"Sacramento Kings\": 1610612758, \"Portland Trailblazers\": 1610612757, \n",
    "              \"Denver Nuggets\":1610612743 , \"Memphis Grizzlies\": 1610612763, \"Miami Heat\":1610612748, \n",
    "              \"Cleveland Cavaliers\": 1610612739, \"Charlotte Hornets\":1610612766, \"Chicago Bulls\": 1610612741, \n",
    "              \"New York Knicks\": 1610612752, \"Indiana Pacers\":1610612754 , \"Utah Jazz\":1610612762 , \n",
    "              \"Detroit Pistons\": 1610612765, \"Dallas Mavericks\": 1610612742, \"Oklahoma City Thunder\": 1610612760,  \n",
    "             }"
   ]
  },
  {
   "cell_type": "code",
   "execution_count": 51,
   "metadata": {},
   "outputs": [],
   "source": [
    "def assist_ratios_player_graph(player_id):\n",
    "    G = nx.DiGraph()\n",
    "    labels = {}\n",
    "    widths = []\n",
    "    \n",
    "    iden = player_id\n",
    "    name = ids[iden]\n",
    "    labels[iden] = name\n",
    "    print(name)\n",
    "\n",
    "    fname = \"data/\"+players[name]+\"-passing.json\"\n",
    "\n",
    "    with open(fname, \"r\") as f:\n",
    "        data = json.load(f)\n",
    "    \n",
    "    for key in data:\n",
    "        if(data[key][0] != 0 and data[key][1] != 0):\n",
    "            widths.append(5*data[key][1]/data[key][0])\n",
    "            G.add_edge(iden, key, weight=data[key][1]/data[key][0])\n",
    "            labels[key] = ids[key]\n",
    "        \n",
    "    pos = nx.spring_layout(G)\n",
    "    plt.figure(figsize=(8,8))\n",
    "    plt.title(name)\n",
    "    nx.draw_networkx_edges(G, pos, width=widths)\n",
    "    nx.draw_networkx_nodes(G, pos, node_size=50)\n",
    "    nx.draw_networkx_labels(G,pos,labels, font_size=6)\n",
    "    return None\n",
    "\n",
    "def assist_ratios_player_win_loss(player_id):   \n",
    "    iden = player_id\n",
    "    name = ids[iden]\n",
    "\n",
    "    fname_w = \"data/\"+players[name]+\"-passing-win.json\"\n",
    "    fname_l = \"data/\"+players[name]+\"-passing-loss.json\"\n",
    "\n",
    "    with open(fname_w, \"r\") as f:\n",
    "        data_w = json.load(f)\n",
    "    \n",
    "    ratios_w = []\n",
    "    for key in data_w:\n",
    "        if (data_w[key][0] != 0):\n",
    "            ratios_w.append(data_w[key][1]/data_w[key][0])\n",
    "    with open(fname_l, \"r\") as f:\n",
    "        data_l = json.load(f)\n",
    "    \n",
    "    ratios_l = []\n",
    "    for key in data_l:\n",
    "        if (data_l[key][0] != 0):\n",
    "            ratios_l.append(data_l[key][1]/data_l[key][0])\n",
    "    \n",
    "    d_mean = np.mean(ratios_w)-np.mean(ratios_l)\n",
    "    d_medi = np.median(ratios_w)-np.median(ratios_l)\n",
    "    d_max = np.max(ratios_w)-np.max(ratios_l)\n",
    "    return d_mean, d_medi, d_max"
   ]
  },
  {
   "cell_type": "code",
   "execution_count": 52,
   "metadata": {},
   "outputs": [],
   "source": [
    "#assist_ratios_team(team_id)"
   ]
  },
  {
   "cell_type": "code",
   "execution_count": 53,
   "metadata": {},
   "outputs": [
    {
     "name": "stdout",
     "output_type": "stream",
     "text": [
      "{1610612751: 'Dinwiddie, Spencer', 1610612750: 'Teague, Jeff', 1610612744: 'Green, Draymond', 1610612746: 'Williams, Lou', 1610612747: 'Ball, Lonzo', 1610612764: 'Wall, John', 1610612749: 'Antetokounmpo, Giannis', 1610612761: 'Lowry, Kyle', 1610612755: 'Simmons, Ben', 1610612738: 'Smart, Marcus', 1610612753: 'Augustin, D.J.', 1610612737: 'Schroder, Dennis', 1610612745: 'Harden, James', 1610612759: 'Parker, Tony', 1610612740: 'Rondo, Rajon', 1610612756: 'Payton, Elfrid', 1610612758: \"Fox, De'Aaron\", 1610612757: 'Lillard, Damian', 1610612743: 'Jokic, Nikola', 1610612763: 'Evans, Tyreke', 1610612748: 'Dragic, Goran', 1610612739: 'James, LeBron', 1610612766: 'Batum, Nicolas', 1610612741: 'Dunn, Kris', 1610612752: 'Jack, Jarrett', 1610612754: 'Collison, Darren', 1610612762: 'Rubio, Ricky', 1610612765: 'Griffin, Blake', 1610612742: 'Barea, J.J.', 1610612760: 'Westbrook, Russell'}\n"
     ]
    }
   ],
   "source": [
    "most_passes = {}\n",
    "passing_players = {}\n",
    "for team in franchises:\n",
    "    team_id = franchises[team]\n",
    "    most_passes[team_id] = 0\n",
    "    passing_players[team_id] = \"\"\n",
    "\n",
    "for player in players:\n",
    "    player_id = players[player]\n",
    "    team_id = teams[player_id]\n",
    "    if(team_id == 0):\n",
    "        continue\n",
    "    \n",
    "    fname = \"data/\"+player_id+\"-passing.json\"\n",
    "\n",
    "    with open(fname, \"r\") as f:\n",
    "        data = json.load(f)\n",
    "    tot = 0\n",
    "    for key in data:\n",
    "        tot += data[key][1]\n",
    "    \n",
    "    if (tot > most_passes[team_id]):\n",
    "        most_passes[team_id] = tot\n",
    "        passing_players[team_id] = player\n",
    "    \n",
    "print(passing_players)"
   ]
  },
  {
   "cell_type": "code",
   "execution_count": 75,
   "metadata": {},
   "outputs": [
    {
     "data": {
      "image/png": "[encoded data removed]",
      "text/plain": [
       "<Figure size 432x288 with 1 Axes>"
      ]
     },
     "metadata": {
      "needs_background": "light"
     },
     "output_type": "display_data"
    },
    {
     "data": {
      "image/png": "[encoded data removed]",
      "text/plain": [
       "<Figure size 432x288 with 1 Axes>"
      ]
     },
     "metadata": {
      "needs_background": "light"
     },
     "output_type": "display_data"
    },
    {
     "data": {
      "image/png": "[encoded data removed]",
      "text/plain": [
       "<Figure size 432x288 with 1 Axes>"
      ]
     },
     "metadata": {
      "needs_background": "light"
     },
     "output_type": "display_data"
    },
    {
     "data": {
      "image/png": "[encoded data removed]",
      "text/plain": [
       "<Figure size 432x288 with 1 Axes>"
      ]
     },
     "metadata": {
      "needs_background": "light"
     },
     "output_type": "display_data"
    }
   ],
   "source": [
    "means = []\n",
    "medians = []\n",
    "maxs = []\n",
    "for player in list(passing_players.values()):\n",
    "    d_mean, d_median, d_max = assist_ratios_player_win_loss(players[player])\n",
    "    means.append(d_mean)\n",
    "    medians.append(d_median)\n",
    "    maxs.append(d_max)\n",
    "\n",
    "plt.hist(means, bins=np.arange(-0.21,0.21,0.03))\n",
    "plt.show()\n",
    "plt.hist(means, bins=np.arange(-0.21,0.21,0.03), cumulative=True, histtype='step')\n",
    "plt.show()\n",
    "plt.hist(medians, bins=np.arange(-0.21,0.21,0.03))\n",
    "plt.show()\n",
    "plt.hist(maxs, bins=np.arange(-0.21,0.21,0.03))\n",
    "plt.show()"
   ]
  },
  {
   "cell_type": "code",
   "execution_count": null,
   "metadata": {},
   "outputs": [],
   "source": []
  }
 ],
 "metadata": {
  "kernelspec": {
   "display_name": "Python 3",
   "language": "python",
   "name": "python3"
  },
  "language_info": {
   "codemirror_mode": {
    "name": "ipython",
    "version": 3
   },
   "file_extension": ".py",
   "mimetype": "text/x-python",
   "name": "python",
   "nbconvert_exporter": "python",
   "pygments_lexer": "ipython3",
   "version": "3.7.0"
  }
 },
 "nbformat": 4,
 "nbformat_minor": 2
}
