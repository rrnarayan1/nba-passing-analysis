{
 "cells": [
  {
   "cell_type": "code",
   "execution_count": 503,
   "metadata": {},
   "outputs": [],
   "source": [
    "import numpy as np\n",
    "import matplotlib.pyplot as plt\n",
    "import json\n",
    "import networkx as nx\n",
    "import scipy.stats"
   ]
  },
  {
   "cell_type": "code",
   "execution_count": 504,
   "metadata": {},
   "outputs": [],
   "source": [
    "\n",
    "players = {}\n",
    "ids = {}\n",
    "teams = {}\n",
    "with open(\"data/players.json\") as f:\n",
    "    data = json.load(f)\n",
    "\n",
    "for row in data:\n",
    "    if (row['lastName'] == \"\"):\n",
    "        name = row[\"firstName\"]\n",
    "    else:\n",
    "        name = row['lastName']+\", \"+row[\"firstName\"]\n",
    "    iden = str(row['playerId'])\n",
    "    players[name] = iden\n",
    "    ids[iden] = name\n",
    "    teams[iden] = row['teamId']"
   ]
  },
  {
   "cell_type": "code",
   "execution_count": 505,
   "metadata": {},
   "outputs": [
    {
     "data": {
      "text/plain": [
       "{'Abrines, Alex': '203518',\n",
       " 'Acy, Quincy': '203112',\n",
       " 'Adams, Steven': '203500',\n",
       " 'Adebayo, Bam': '1628389',\n",
       " 'Afflalo, Arron': '201167',\n",
       " 'Aldrich, Cole': '202332',\n",
       " 'Aldridge, LaMarcus': '200746',\n",
       " 'Allen, Jarrett': '1628386',\n",
       " 'Allen, Kadeem': '1628443',\n",
       " 'Allen, Tony': '2754',\n",
       " 'Aminu, Al-Farouq': '202329',\n",
       " 'Anderson, Justin': '1626147',\n",
       " 'Anderson, Kyle': '203937',\n",
       " 'Anderson, Ryan': '201583',\n",
       " 'Anigbogu, Ike': '1628387',\n",
       " 'Antetokounmpo, Giannis': '203507',\n",
       " 'Anthony, Carmelo': '2546',\n",
       " 'Anunoby, OG': '1628384',\n",
       " 'Arcidiacono, Ryan': '1627853',\n",
       " 'Ariza, Trevor': '2772',\n",
       " 'Arthur, Darrell': '201589',\n",
       " 'Artis, Jamel': '1628503',\n",
       " 'Asik, Omer': '201600',\n",
       " 'Augustin, D.J.': '201571',\n",
       " 'Babbitt, Luke': '202337',\n",
       " 'Bacon, Dwayne': '1628407',\n",
       " 'Baker, Ron': '1627758',\n",
       " 'Baldwin IV, Wade': '1627735',\n",
       " 'Ball, Lonzo': '1628366',\n",
       " 'Barea, J.J.': '200826',\n",
       " 'Barnes, Harrison': '203084',\n",
       " 'Barton, Will': '203115',\n",
       " 'Batum, Nicolas': '201587',\n",
       " 'Bayless, Jerryd': '201573',\n",
       " 'Baynes, Aron': '203382',\n",
       " 'Bazemore, Kent': '203145',\n",
       " 'Beal, Bradley': '203078',\n",
       " 'Beasley, Malik': '1627736',\n",
       " 'Beasley, Michael': '201563',\n",
       " 'Belinelli, Marco': '201158',\n",
       " 'Bell, Jordan': '1628395',\n",
       " \"Bembry, DeAndre'\": '1627761',\n",
       " 'Bender, Dragan': '1627733',\n",
       " 'Bertans, Davis': '202722',\n",
       " 'Beverley, Patrick': '201976',\n",
       " 'Birch, Khem': '203920',\n",
       " 'Bird, Jabari': '1628444',\n",
       " 'Biyombo, Bismack': '202687',\n",
       " 'Bjelica, Nemanja': '202357',\n",
       " 'Black, Tarik': '204028',\n",
       " 'Blakeney, Antonio': '1628469',\n",
       " 'Bledsoe, Eric': '202339',\n",
       " 'Blue, Vander': '203505',\n",
       " 'Bogdanovic, Bogdan': '203992',\n",
       " 'Bogdanovic, Bojan': '202711',\n",
       " 'Bogut, Andrew': '101106',\n",
       " 'Bolomboy, Joel': '1627762',\n",
       " 'Booker, Devin': '1626164',\n",
       " 'Booker, Trevor': '202344',\n",
       " 'Boucher, Chris': '1628449',\n",
       " 'Bradley, Avery': '202340',\n",
       " 'Bradley, Tony': '1628396',\n",
       " 'Brewer, Corey': '201147',\n",
       " 'Brogdon, Malcolm': '1627763',\n",
       " 'Brooks, Aaron': '201166',\n",
       " 'Brooks, Dillon': '1628415',\n",
       " 'Brooks, MarShon': '202705',\n",
       " 'Brown, Anthony': '1626148',\n",
       " 'Brown, Bobby': '201628',\n",
       " 'Brown, Jaylen': '1627759',\n",
       " 'Brown, Lorenzo': '203485',\n",
       " 'Brown, Markel': '203900',\n",
       " 'Brown, Sterling': '1628425',\n",
       " 'Brussino, Nicolas': '1627852',\n",
       " 'Bryant, Thomas': '1628418',\n",
       " 'Bullock, Reggie': '203493',\n",
       " 'Burke, Trey': '203504',\n",
       " 'Burks, Alec': '202692',\n",
       " 'Butler, Jimmy': '202710',\n",
       " 'Buycks, Dwight': '202779',\n",
       " 'Caboclo, Bruno': '203998',\n",
       " 'Calderon, Jose': '101181',\n",
       " 'Caldwell-Pope, Kentavious': '203484',\n",
       " 'Canaan, Isaiah': '203477',\n",
       " 'Capela, Clint': '203991',\n",
       " 'Carroll, DeMarre': '201960',\n",
       " 'Carter, Vince': '1713',\n",
       " 'Carter-Williams, Michael': '203487',\n",
       " 'Caruso, Alex': '1627936',\n",
       " 'Casspi, Omri': '201956',\n",
       " 'Cauley-Stein, Willie': '1626161',\n",
       " 'Cavanaugh, Tyler': '1628463',\n",
       " 'Chalmers, Mario': '201596',\n",
       " 'Chandler, Tyson': '2199',\n",
       " 'Chandler, Wilson': '201163',\n",
       " 'Chriss, Marquese': '1627737',\n",
       " 'Clark, Ian': '203546',\n",
       " 'Clarkson, Jordan': '203903',\n",
       " 'Clavell, Gian': '1628492',\n",
       " 'Cleveland, Antonius': '1628499',\n",
       " 'Collins, John': '1628381',\n",
       " 'Collins, Zach': '1628380',\n",
       " 'Collinsworth, Kyle': '1627858',\n",
       " 'Collison, Darren': '201954',\n",
       " 'Collison, Nick': '2555',\n",
       " 'Conley, Mike': '201144',\n",
       " 'Connaughton, Pat': '1626192',\n",
       " 'Cook, Quinn': '1626188',\n",
       " 'Cooke, Charles': '1628429',\n",
       " 'Cooley, Jack': '204022',\n",
       " 'Costello, Matt': '1627856',\n",
       " 'Cousins, DeMarcus': '202326',\n",
       " 'Covington, Robert': '203496',\n",
       " 'Crabbe, Allen': '203459',\n",
       " 'Craig, Torrey': '1628470',\n",
       " 'Crawford, Jamal': '2037',\n",
       " 'Crawford, Jordan': '202348',\n",
       " 'Crowder, Jae': '203109',\n",
       " 'Cunningham, Dante': '201967',\n",
       " 'Curry, Stephen': '201939',\n",
       " 'Daniels, Troy': '203584',\n",
       " 'Davis, Anthony': '203076',\n",
       " 'Davis, Deyonta': '1627738',\n",
       " 'Davis, Ed': '202334',\n",
       " 'DeRozan, DeMar': '201942',\n",
       " 'Dedmon, Dewayne': '203473',\n",
       " 'Dekker, Sam': '1626155',\n",
       " 'Delaney, Malcolm': '1627098',\n",
       " 'Dellavedova, Matthew': '203521',\n",
       " 'Deng, Luol': '2736',\n",
       " 'Diallo, Cheick': '1627767',\n",
       " 'Dieng, Gorgui': '203476',\n",
       " 'Dinwiddie, Spencer': '203915',\n",
       " 'Dorsey, Tyler': '1628416',\n",
       " 'Dotson, Damyean': '1628422',\n",
       " 'Doyle, Milton': '1628495',\n",
       " 'Dozier, PJ': '1628408',\n",
       " 'Dragic, Goran': '201609',\n",
       " 'Drew II, Larry': '203580',\n",
       " 'Drummond, Andre': '203083',\n",
       " 'Dudley, Jared': '201162',\n",
       " 'Dunn, Kris': '1627739',\n",
       " 'Durant, Kevin': '201142',\n",
       " 'Eddie, Jarell': '204067',\n",
       " 'Ellenson, Henry': '1627740',\n",
       " 'Ellington, Wayne': '201961',\n",
       " 'Embiid, Joel': '203954',\n",
       " 'Ennis III, James': '203516',\n",
       " 'Ennis, Tyler': '203898',\n",
       " 'Evans, Jawun': '1628393',\n",
       " 'Evans, Jeremy': '202379',\n",
       " 'Evans, Tyreke': '201936',\n",
       " 'Exum, Dante': '203957',\n",
       " 'Faried, Kenneth': '202702',\n",
       " 'Favors, Derrick': '202324',\n",
       " 'Felder, Kay': '1627770',\n",
       " 'Felicio, Cristiano': '1626245',\n",
       " 'Felton, Raymond': '101109',\n",
       " 'Ferguson, Terrance': '1628390',\n",
       " 'Ferrell, Yogi': '1627812',\n",
       " 'Finney-Smith, Dorian': '1627827',\n",
       " 'Forbes, Bryn': '1627854',\n",
       " 'Fournier, Evan': '203095',\n",
       " \"Fox, De'Aaron\": '1628368',\n",
       " 'Frazier, Tim': '204025',\n",
       " 'Frye, Channing': '101112',\n",
       " 'Fultz, Markelle': '1628365',\n",
       " 'Gallinari, Danilo': '201568',\n",
       " 'Galloway, Langston': '204038',\n",
       " 'Gasol, Marc': '201188',\n",
       " 'Gasol, Pau': '2200',\n",
       " 'Gay, Rudy': '200752',\n",
       " 'George, Paul': '202331',\n",
       " 'Georges-Hunt, Marcus': '1627875',\n",
       " 'Gibson, Jonathan': '1626780',\n",
       " 'Gibson, Taj': '201959',\n",
       " 'Ginobili, Manu': '1938',\n",
       " 'Gobert, Rudy': '203497',\n",
       " 'Gordon, Aaron': '203932',\n",
       " 'Gordon, Eric': '201569',\n",
       " 'Gortat, Marcin': '101162',\n",
       " 'Graham, Treveon': '1626203',\n",
       " 'Grant, Jerami': '203924',\n",
       " 'Grant, Jerian': '1626170',\n",
       " 'Gray, Josh': '1627982',\n",
       " 'Green, Danny': '201980',\n",
       " 'Green, Draymond': '203110',\n",
       " 'Green, Gerald': '101123',\n",
       " 'Green, JaMychal': '203210',\n",
       " 'Green, Jeff': '201145',\n",
       " 'Griffin, Blake': '201933',\n",
       " 'Hamilton, Daniel': '1627772',\n",
       " 'Hardaway Jr., Tim': '203501',\n",
       " 'Harden, James': '201935',\n",
       " 'Harkless, Maurice': '203090',\n",
       " 'Harrell, Montrezl': '1626149',\n",
       " 'Harris, Devin': '2734',\n",
       " 'Harris, Gary': '203914',\n",
       " 'Harris, Joe': '203925',\n",
       " 'Harris, Tobias': '202699',\n",
       " 'Harrison, Aaron': '1626151',\n",
       " 'Harrison, Andrew': '1626150',\n",
       " 'Harrison, Shaquille': '1627885',\n",
       " 'Hart, Josh': '1628404',\n",
       " 'Haslem, Udonis': '2617',\n",
       " 'Hayes, Nigel': '1628502',\n",
       " 'Hayward, Gordon': '202330',\n",
       " 'Hearn, Reggie': '203687',\n",
       " 'Henry, Myke': '1627988',\n",
       " 'Henson, John': '203089',\n",
       " 'Hernangomez, Juancho': '1627823',\n",
       " 'Hernangomez, Willy': '1626195',\n",
       " 'Hezonja, Mario': '1626209',\n",
       " 'Hicks, Isaiah': '1628439',\n",
       " 'Hield, Buddy': '1627741',\n",
       " 'Hill, George': '201588',\n",
       " 'Hill, Solomon': '203524',\n",
       " 'Hilliard, Darrun': '1626199',\n",
       " 'Holiday, Jrue': '201950',\n",
       " 'Holiday, Justin': '203200',\n",
       " 'Holland, John': '204066',\n",
       " 'Hollis-Jefferson, Rondae': '1626178',\n",
       " 'Holmes, Richaun': '1626158',\n",
       " 'Hood, Rodney': '203918',\n",
       " 'Hopson, Scotty': '203816',\n",
       " 'Horford, Al': '201143',\n",
       " 'House, Danuel': '1627863',\n",
       " 'Howard, Dwight': '2730',\n",
       " 'Huestis, Josh': '203962',\n",
       " 'Hunter, RJ': '1626154',\n",
       " 'Hunter, Vincent': '1626205',\n",
       " 'Ibaka, Serge': '201586',\n",
       " 'Iguodala, Andre': '2738',\n",
       " 'Ilyasova, Ersan': '101141',\n",
       " 'Ingles, Joe': '204060',\n",
       " 'Ingram, Andre': '201281',\n",
       " 'Ingram, Brandon': '1627742',\n",
       " 'Irving, Kyrie': '202681',\n",
       " 'Isaac, Jonathan': '1628371',\n",
       " 'Iwundu, Wes': '1628411',\n",
       " 'Jack, Jarrett': '101127',\n",
       " 'Jackson, Aaron': '1628935',\n",
       " 'Jackson, Demetrius': '1627743',\n",
       " 'Jackson, Josh': '1628367',\n",
       " 'Jackson, Justin': '1628382',\n",
       " 'Jackson, Reggie': '202704',\n",
       " 'James, LeBron': '2544',\n",
       " 'James, Mike': '1628455',\n",
       " 'Jefferson, Al': '2744',\n",
       " 'Jefferson, Richard': '2210',\n",
       " 'Jennings, Brandon': '201943',\n",
       " 'Jerebko, Jonas': '201973',\n",
       " 'Johnson, Amir': '101161',\n",
       " 'Johnson, Brice': '1627744',\n",
       " 'Johnson, Dakari': '1626177',\n",
       " 'Johnson, James': '201949',\n",
       " 'Johnson, Joe': '2207',\n",
       " 'Johnson, Omari': '204179',\n",
       " 'Johnson, Stanley': '1626169',\n",
       " 'Johnson, Tyler': '204020',\n",
       " 'Johnson, Wesley': '202325',\n",
       " 'Jokic, Nikola': '203999',\n",
       " 'Jones Jr., Derrick': '1627884',\n",
       " 'Jones, Damian': '1627745',\n",
       " 'Jones, Jalen': '1627883',\n",
       " 'Jones, Tyus': '1626145',\n",
       " 'Jordan, DeAndre': '201599',\n",
       " 'Joseph, Cory': '202709',\n",
       " 'Kaminsky, Frank': '1626163',\n",
       " 'Kanter, Enes': '202683',\n",
       " 'Kennard, Luke': '1628379',\n",
       " 'Kidd-Gilchrist, Michael': '203077',\n",
       " 'Kilpatrick, Sean': '203930',\n",
       " 'Kleber, Maxi': '1628467',\n",
       " 'Korkmaz, Furkan': '1627788',\n",
       " 'Kornet, Luke': '1628436',\n",
       " 'Korver, Kyle': '2594',\n",
       " 'Koufos, Kosta': '201585',\n",
       " 'Kuzma, Kyle': '1628398',\n",
       " 'Kuzminskas, Mindaugas': '1627851',\n",
       " 'LaVine, Zach': '203897',\n",
       " 'Labissiere, Skal': '1627746',\n",
       " 'Lamb, Jeremy': '203087',\n",
       " 'Larkin, Shane': '203499',\n",
       " 'Lauvergne, Joffrey': '203530',\n",
       " 'Lawson, Ty': '201951',\n",
       " 'Layman, Jake': '1627774',\n",
       " 'LeVert, Caris': '1627747',\n",
       " 'Leaf, TJ': '1628388',\n",
       " 'Lee, Courtney': '201584',\n",
       " 'Lee, Damion': '1627814',\n",
       " 'Lemon Jr., Walter': '1627215',\n",
       " 'Len, Alex': '203458',\n",
       " 'Leonard, Kawhi': '202695',\n",
       " 'Leonard, Meyers': '203086',\n",
       " 'Leuer, Jon': '202720',\n",
       " 'Liggins, DeAndre': '202732',\n",
       " 'Lillard, Damian': '203081',\n",
       " 'Lin, Jeremy': '202391',\n",
       " 'Livingston, Shaun': '2733',\n",
       " 'Looney, Kevon': '1626172',\n",
       " 'Lopez, Brook': '201572',\n",
       " 'Lopez, Robin': '201577',\n",
       " 'Love, Kevin': '201567',\n",
       " 'Lowry, Kyle': '200768',\n",
       " 'Luwawu-Cabarrot, Timothe': '1627789',\n",
       " 'Lydon, Tyler': '1628399',\n",
       " 'Lyles, Trey': '1626168',\n",
       " 'Mack, Shelvin': '202714',\n",
       " 'Magette, Josh': '203705',\n",
       " 'Mahinmi, Ian': '101133',\n",
       " 'Maker, Thon': '1627748',\n",
       " 'Marjanovic, Boban': '1626246',\n",
       " 'Markkanen, Lauri': '1628374',\n",
       " 'Martin, Jarell': '1626185',\n",
       " 'Mason, Frank': '1628412',\n",
       " 'Mathiang, Mangok': '1628493',\n",
       " 'Matthews, Wesley': '202083',\n",
       " 'Mbah a Moute, Luc': '201601',\n",
       " 'McAdoo, James Michael': '203949',\n",
       " 'McCaw, Patrick': '1627775',\n",
       " 'McCollum, CJ': '203468',\n",
       " 'McConnell, T.J.': '204456',\n",
       " 'McCree, Erik': '1628571',\n",
       " 'McCullough, Chris': '1626191',\n",
       " 'McDermott, Doug': '203926',\n",
       " 'McGee, JaVale': '201580',\n",
       " 'McGruder, Rodney': '203585',\n",
       " 'McKinney-Jones, Trey': '203590',\n",
       " 'McKinnie, Alfonzo': '1628035',\n",
       " 'McLemore, Ben': '203463',\n",
       " 'McRoberts, Josh': '201177',\n",
       " 'Meeks, Jodie': '201975',\n",
       " 'Mejri, Salah': '1626257',\n",
       " 'Mickey, Jordan': '1626175',\n",
       " 'Middleton, Khris': '203114',\n",
       " 'Miles, CJ': '101139',\n",
       " 'Miller, Darius': '203121',\n",
       " 'Miller, Malcolm': '1626259',\n",
       " 'Mills, Patty': '201988',\n",
       " 'Millsap, Paul': '200794',\n",
       " 'Mirotic, Nikola': '202703',\n",
       " 'Mitchell, Donovan': '1628378',\n",
       " 'Mitrou-Long, Naz': '1628513',\n",
       " 'Monk, Malik': '1628370',\n",
       " 'Monroe, Greg': '202328',\n",
       " 'Montero, Luis': '1626242',\n",
       " 'Moore, Ben': '1628500',\n",
       " \"Moore, E'Twaun\": '202734',\n",
       " 'Moreland, Eric': '203961',\n",
       " 'Morris, Jaylen': '1628537',\n",
       " 'Morris, Marcus': '202694',\n",
       " 'Morris, Markieff': '202693',\n",
       " 'Morris, Monte': '1628420',\n",
       " 'Motley, Johnathan': '1628405',\n",
       " 'Mozgov, Timofey': '202389',\n",
       " 'Mudiay, Emmanuel': '1626144',\n",
       " 'Muhammad, Shabazz': '203498',\n",
       " 'Munford, Xavier': '204098',\n",
       " 'Murray, Dejounte': '1627749',\n",
       " 'Murray, Jamal': '1627750',\n",
       " 'Muscala, Mike': '203488',\n",
       " 'Nader, Abdel': '1627846',\n",
       " 'Nance Jr., Larry': '1626204',\n",
       " 'Napier, Shabazz': '203894',\n",
       " 'Nelson, Jameer': '2749',\n",
       " 'Nene': '2403',\n",
       " 'Neto, Raul': '203526',\n",
       " 'Niang, Georges': '1627777',\n",
       " 'Noah, Joakim': '201149',\n",
       " 'Noel, Nerlens': '203457',\n",
       " 'Nogueira, Lucas': '203512',\n",
       " 'Nowitzki, Dirk': '1717',\n",
       " 'Ntilikina, Frank': '1628373',\n",
       " 'Nurkic, Jusuf': '203994',\n",
       " 'Nwaba, David': '1628021',\n",
       " \"O'Bryant III, Johnny\": '203948',\n",
       " \"O'Neale, Royce\": '1626220',\n",
       " \"O'Quinn, Kyle\": '203124',\n",
       " 'Ojeleye, Semi': '1628400',\n",
       " 'Okafor, Emeka': '2731',\n",
       " 'Okafor, Jahlil': '1626143',\n",
       " 'Oladipo, Victor': '203506',\n",
       " 'Olynyk, Kelly': '203482',\n",
       " 'Onuaku, Chinanu': '1627778',\n",
       " 'Osman, Cedi': '1626224',\n",
       " 'Oubre Jr., Kelly': '1626162',\n",
       " 'Pachulia, Zaza': '2585',\n",
       " 'Paige, Marcus': '1627779',\n",
       " 'Papagiannis, Georgios': '1627834',\n",
       " 'Parker, Jabari': '203953',\n",
       " 'Parker, Tony': '2225',\n",
       " 'Parsons, Chandler': '202718',\n",
       " 'Patterson, Patrick': '202335',\n",
       " 'Patton, Justin': '1628383',\n",
       " 'Paul, Brandon': '203464',\n",
       " 'Paul, Chris': '101108',\n",
       " 'Payne, Adreian': '203940',\n",
       " 'Payne, Cameron': '1626166',\n",
       " 'Payton II, Gary': '1627780',\n",
       " 'Payton, Elfrid': '203901',\n",
       " 'Perkins, Kendrick': '2570',\n",
       " 'Perrantes, London': '1628506',\n",
       " 'Peters, Alec': '1628409',\n",
       " 'Plumlee, Marshall': '1627850',\n",
       " 'Plumlee, Mason': '203486',\n",
       " 'Plumlee, Miles': '203101',\n",
       " 'Poeltl, Jakob': '1627751',\n",
       " 'Pondexter, Quincy': '202347',\n",
       " 'Porter Jr., Otto': '203490',\n",
       " 'Portis, Bobby': '1626171',\n",
       " 'Porzingis, Kristaps': '204001',\n",
       " 'Powell, Dwight': '203939',\n",
       " 'Powell, Norman': '1626181',\n",
       " 'Poythress, Alex': '1627816',\n",
       " 'Prince, Taurean': '1627752',\n",
       " 'Pullen, Jacob': '1626643',\n",
       " 'Purvis, Rodney': '1628681',\n",
       " 'Quarterman, Tim': '1627817',\n",
       " 'Rabb, Ivan': '1628397',\n",
       " 'Randle, Julius': '203944',\n",
       " 'Randolph, Zach': '2216',\n",
       " 'Rathan-Mayes, Xavier': '1628504',\n",
       " 'Redick, JJ': '200755',\n",
       " 'Reed, Davon': '1628432',\n",
       " 'Reed, Willie': '203186',\n",
       " 'Richardson, Josh': '1626196',\n",
       " 'Richardson, Malachi': '1627781',\n",
       " 'Rivers, Austin': '203085',\n",
       " 'Roberson, Andre': '203460',\n",
       " 'Robinson III, Glenn': '203922',\n",
       " 'Robinson, Devin': '1628421',\n",
       " 'Rondo, Rajon': '200765',\n",
       " 'Rose, Derrick': '201565',\n",
       " 'Ross, Terrence': '203082',\n",
       " 'Rozier, Terry': '1626179',\n",
       " 'Rubio, Ricky': '201937',\n",
       " \"Russell, D'Angelo\": '1626156',\n",
       " 'Sabonis, Domantas': '1627734',\n",
       " 'Sampson, JaKarr': '203960',\n",
       " 'Saric, Dario': '203967',\n",
       " 'Satoransky, Tomas': '203107',\n",
       " 'Schroder, Dennis': '203471',\n",
       " 'Scott, Mike': '203118',\n",
       " 'Sefolosha, Thabo': '200757',\n",
       " 'Selden, Wayne': '1627782',\n",
       " 'Sessions, Ramon': '201196',\n",
       " 'Shumpert, Iman': '202697',\n",
       " 'Siakam, Pascal': '1627783',\n",
       " 'Silas, Xavier': '202918',\n",
       " 'Simmons, Ben': '1627732',\n",
       " 'Simmons, Jonathon': '203613',\n",
       " 'Simmons, Kobi': '1628424',\n",
       " 'Singler, Kyle': '202713',\n",
       " 'Smart, Marcus': '203935',\n",
       " 'Smith Jr., Dennis': '1628372',\n",
       " 'Smith, Ish': '202397',\n",
       " 'Smith, JR': '2747',\n",
       " 'Smith, Jason': '201160',\n",
       " 'Smith, Josh': '2746',\n",
       " 'Snell, Tony': '203503',\n",
       " 'Speights, Marreese': '201578',\n",
       " 'Stauskas, Nik': '203917',\n",
       " 'Stephenson, Lance': '202362',\n",
       " 'Stockton, David': '204065',\n",
       " 'Stone, Julyan': '202933',\n",
       " 'Sumner, Edmond': '1628410',\n",
       " 'Swanigan, Caleb': '1628403',\n",
       " 'Tatum, Jayson': '1628369',\n",
       " 'Taylor, Isaiah': '1627819',\n",
       " 'Teague, Jeff': '201952',\n",
       " 'Teague, Marquis': '203104',\n",
       " 'Teletovic, Mirza': '203141',\n",
       " 'Temple, Garrett': '202066',\n",
       " 'Teodosic, Milos': '1628462',\n",
       " 'Terry, Jason': '1891',\n",
       " 'Theis, Daniel': '1628464',\n",
       " 'Thomas, Isaiah': '202738',\n",
       " 'Thomas, Lance': '202498',\n",
       " 'Thompson, Klay': '202691',\n",
       " 'Thompson, Tristan': '202684',\n",
       " 'Thornwell, Sindarius': '1628414',\n",
       " 'Tolliver, Anthony': '201229',\n",
       " 'Towns, Karl-Anthony': '1626157',\n",
       " 'Tucker, PJ': '200782',\n",
       " 'Turner, Evan': '202323',\n",
       " 'Turner, Myles': '1626167',\n",
       " 'Udoh, Ekpe': '202327',\n",
       " 'Ulis, Tyler': '1627755',\n",
       " 'Valanciunas, Jonas': '202685',\n",
       " 'Valentine, Denzel': '1627756',\n",
       " 'VanVleet, Fred': '1627832',\n",
       " 'Vaughn, Rashad': '1626173',\n",
       " 'Vonleh, Noah': '203943',\n",
       " 'Vucevic, Nikola': '202696',\n",
       " 'Wade, Dwyane': '2548',\n",
       " 'Waiters, Dion': '203079',\n",
       " 'Walker, Kemba': '202689',\n",
       " 'Wall, John': '202322',\n",
       " 'Wallace, Tyrone': '1627820',\n",
       " 'Walton Jr., Derrick': '1628476',\n",
       " 'Warney, Jameel': '1627866',\n",
       " 'Warren, T.J.': '203933',\n",
       " 'Wear, Travis': '204037',\n",
       " 'Webb III, James': '1627821',\n",
       " 'Weber, Briante': '1627362',\n",
       " 'West, David': '2561',\n",
       " 'Westbrook, Russell': '201566',\n",
       " 'White III, Andrew': '1628510',\n",
       " 'White, Derrick': '1628401',\n",
       " 'White, Okaro': '1627855',\n",
       " 'Whitehead, Isaiah': '1627785',\n",
       " 'Whiteside, Hassan': '202355',\n",
       " 'Wiggins, Andrew': '203952',\n",
       " 'Wiley, Jacob': '1628451',\n",
       " 'Wilkins, Damien': '2863',\n",
       " 'Williams Jr., Matt': '1628475',\n",
       " 'Williams, Alan': '1626210',\n",
       " 'Williams, C.J.': '203710',\n",
       " 'Williams, Derrick': '202682',\n",
       " 'Williams, Lou': '101150',\n",
       " 'Williams, Marvin': '101107',\n",
       " 'Williams, Troy': '1627786',\n",
       " 'Wilson, D.J.': '1628391',\n",
       " 'Wilson, Jamil': '203966',\n",
       " 'Winslow, Justise': '1626159',\n",
       " 'Withey, Jeff': '203481',\n",
       " 'Wolters, Nate': '203489',\n",
       " 'Wright, Brandan': '201148',\n",
       " 'Wright, Delon': '1626153',\n",
       " 'Yabusele, Guerschon': '1627824',\n",
       " 'Young, James': '203923',\n",
       " 'Young, Joe': '1626202',\n",
       " 'Young, Nick': '201156',\n",
       " 'Young, Thaddeus': '201152',\n",
       " 'Zeller, Cody': '203469',\n",
       " 'Zeller, Tyler': '203092',\n",
       " 'Zhou Qi': '1627753',\n",
       " 'Zipser, Paul': '1627835',\n",
       " 'Zizic, Ante': '1627790',\n",
       " 'Zubac, Ivica': '1627826'}"
      ]
     },
     "execution_count": 505,
     "metadata": {},
     "output_type": "execute_result"
    }
   ],
   "source": [
    "players"
   ]
  },
  {
   "cell_type": "code",
   "execution_count": 506,
   "metadata": {},
   "outputs": [
    {
     "data": {
      "text/plain": [
       "1610612741"
      ]
     },
     "execution_count": 506,
     "metadata": {},
     "output_type": "execute_result"
    }
   ],
   "source": [
    "teams[players['Markkanen, Lauri']]"
   ]
  },
  {
   "cell_type": "code",
   "execution_count": 507,
   "metadata": {},
   "outputs": [],
   "source": [
    "franchises = {\"Brooklyn Nets\": 1610612751, \"Minnesota Timberwolves\":1610612750 ,\"Golden State Warriors\": 1610612744, \n",
    "              \"Los Angeles Clippers\": 1610612746, \"Los Angeles Lakers\": 1610612747, \"Washington Wizards\": 1610612764, \n",
    "              \"Milwaukee Bucks\": 1610612749, \"Toronto Raptors\": 1610612761, \"Philadelphia 76ers\": 1610612755 , \n",
    "              \"Boston Celtics\":1610612738 ,  \"Orlando Magic\": 1610612753, \"Atlanta Hawks\":1610612737,\n",
    "              \"Houston Rockets\": 1610612745 , \"San Antontio Spurs\":  1610612759, \"New Orleans Pelicans\": 1610612740, \n",
    "              \"Pheonix Suns\": 1610612756, \"Sacramento Kings\": 1610612758, \"Portland Trailblazers\": 1610612757, \n",
    "              \"Denver Nuggets\":1610612743 , \"Memphis Grizzlies\": 1610612763, \"Miami Heat\":1610612748, \n",
    "              \"Cleveland Cavaliers\": 1610612739, \"Charlotte Hornets\":1610612766, \"Chicago Bulls\": 1610612741, \n",
    "              \"New York Knicks\": 1610612752, \"Indiana Pacers\":1610612754 , \"Utah Jazz\":1610612762 , \n",
    "              \"Detroit Pistons\": 1610612765, \"Dallas Mavericks\": 1610612742, \"Oklahoma City Thunder\": 1610612760,  \n",
    "             }\n"
   ]
  },
  {
   "cell_type": "code",
   "execution_count": 508,
   "metadata": {
    "scrolled": true
   },
   "outputs": [
    {
     "data": {
      "text/plain": [
       "{1610612737: 'Atlanta Hawks',\n",
       " 1610612738: 'Boston Celtics',\n",
       " 1610612739: 'Cleveland Cavaliers',\n",
       " 1610612740: 'New Orleans Pelicans',\n",
       " 1610612741: 'Chicago Bulls',\n",
       " 1610612742: 'Dallas Mavericks',\n",
       " 1610612743: 'Denver Nuggets',\n",
       " 1610612744: 'Golden State Warriors',\n",
       " 1610612745: 'Houston Rockets',\n",
       " 1610612746: 'Los Angeles Clippers',\n",
       " 1610612747: 'Los Angeles Lakers',\n",
       " 1610612748: 'Miami Heat',\n",
       " 1610612749: 'Milwaukee Bucks',\n",
       " 1610612750: 'Minnesota Timberwolves',\n",
       " 1610612751: 'Brooklyn Nets',\n",
       " 1610612752: 'New York Knicks',\n",
       " 1610612753: 'Orlando Magic',\n",
       " 1610612754: 'Indiana Pacers',\n",
       " 1610612755: 'Philadelphia 76ers',\n",
       " 1610612756: 'Pheonix Suns',\n",
       " 1610612757: 'Portland Trailblazers',\n",
       " 1610612758: 'Sacramento Kings',\n",
       " 1610612759: 'San Antontio Spurs',\n",
       " 1610612760: 'Oklahoma City Thunder',\n",
       " 1610612761: 'Toronto Raptors',\n",
       " 1610612762: 'Utah Jazz',\n",
       " 1610612763: 'Memphis Grizzlies',\n",
       " 1610612764: 'Washington Wizards',\n",
       " 1610612765: 'Detroit Pistons',\n",
       " 1610612766: 'Charlotte Hornets'}"
      ]
     },
     "execution_count": 508,
     "metadata": {},
     "output_type": "execute_result"
    }
   ],
   "source": [
    "franchises_by_id = {}\n",
    "for elem in franchises:\n",
    "    franchises_by_id[franchises[elem]] = elem\n",
    "franchises_by_id"
   ]
  },
  {
   "cell_type": "code",
   "execution_count": 509,
   "metadata": {},
   "outputs": [],
   "source": [
    "def players_per_team():\n",
    "    #franchise_val = franchises[team_name]\n",
    "    team_players = {}\n",
    "    for elem in franchises_by_id: \n",
    "        player_names = []\n",
    "        for player in players:\n",
    "            #print(players[player])\n",
    "            if teams[players[player]] == elem:\n",
    "                player_names += [player]\n",
    "        team_players[franchises_by_id[elem]] = player_names\n",
    "    return team_players\n",
    "\n",
    "\n",
    "top_two_players = [\"Curry, Stephen\", \"Durant, Kevin\"]\n",
    "\n",
    "\n",
    "def player_stats(name, win):\n",
    "    #win = True\n",
    "#     print(win)\n",
    "#     print(name)\n",
    "#     print(type(players))\n",
    "#     print(players[name])\n",
    "    if (win == True):\n",
    "        fname = \"data/\"+players[name]+\"-passing-win.json\"\n",
    "    elif (win == False):\n",
    "        fname = \"data/\"+players[name]+\"-passing-loss.json\"\n",
    "    else:\n",
    "        fname = \"data/\"+players[name]+\"-passing.json\"\n",
    "    with open(fname, \"r\") as f:\n",
    "        data = json.load(f)\n",
    "    data_with_names = {}\n",
    "    for elem in data:\n",
    "        data_with_names[ids[elem]] = data[elem]\n",
    "    return data_with_names\n"
   ]
  },
  {
   "cell_type": "code",
   "execution_count": 510,
   "metadata": {},
   "outputs": [],
   "source": [
    "def pass_to_specific_player(passing_player,receiving_player,win):\n",
    "    #print(passing_player)\n",
    "    stats = player_stats(passing_player,win)\n",
    "    total = 0\n",
    "    for elem in stats:\n",
    "        total += stats[elem][0]\n",
    "    return stats[receiving_player][0]/total"
   ]
  },
  {
   "cell_type": "code",
   "execution_count": 511,
   "metadata": {},
   "outputs": [
    {
     "data": {
      "text/plain": [
       "{'Calderon, Jose': [4.4, 0.4],\n",
       " 'Clarkson, Jordan': [2.3, 0.4],\n",
       " 'Crowder, Jae': [4.7, 0.9],\n",
       " 'Frye, Channing': [1.8, 0.4],\n",
       " 'Green, Jeff': [5.3, 1.0],\n",
       " 'Hill, George': [3.9, 0.5],\n",
       " 'Holland, John': [0.3, 0.0],\n",
       " 'Hood, Rodney': [1.5, 0.4],\n",
       " 'Korver, Kyle': [4.7, 1.1],\n",
       " 'Love, Kevin': [9.1, 2.0],\n",
       " 'Nance Jr., Larry': [1.3, 0.4],\n",
       " 'Osman, Cedi': [1.5, 0.4],\n",
       " 'Perrantes, London': [0.1, 0.0],\n",
       " 'Rose, Derrick': [1.3, 0.1],\n",
       " 'Shumpert, Iman': [0.7, 0.0],\n",
       " 'Smith, JR': [7.2, 1.1],\n",
       " 'Thomas, Isaiah': [2.3, 0.1],\n",
       " 'Thompson, Tristan': [1.6, 0.4],\n",
       " 'Wade, Dwyane': [3.5, 0.3],\n",
       " 'Zizic, Ante': [0.3, 0.1]}"
      ]
     },
     "execution_count": 511,
     "metadata": {},
     "output_type": "execute_result"
    }
   ],
   "source": [
    "player_stats(\"James, LeBron\", True)\n",
    "#sc_lose = player_stats(\"hello\", False)"
   ]
  },
  {
   "cell_type": "code",
   "execution_count": 512,
   "metadata": {},
   "outputs": [
    {
     "data": {
      "text/plain": [
       "0.15743944636678206"
      ]
     },
     "execution_count": 512,
     "metadata": {},
     "output_type": "execute_result"
    }
   ],
   "source": [
    "# def pass_to_specific_name(name2, stats):\n",
    "#     total = 0\n",
    "#     for elem in stats:\n",
    "#         total += stats[elem][0]\n",
    "#     return stats[name2][0]/total\n",
    "pass_to_specific_player(\"James, LeBron\",\"Love, Kevin\", True)\n",
    "\n"
   ]
  },
  {
   "cell_type": "code",
   "execution_count": 513,
   "metadata": {},
   "outputs": [
    {
     "data": {
      "text/plain": [
       "0.1462962962962963"
      ]
     },
     "execution_count": 513,
     "metadata": {},
     "output_type": "execute_result"
    }
   ],
   "source": [
    "# pass_to_specific_name(\"Durant, Kevin\", sc_win)\n",
    "pass_to_specific_player(\"James, LeBron\",\"Love, Kevin\", False)\n"
   ]
  },
  {
   "cell_type": "code",
   "execution_count": 737,
   "metadata": {},
   "outputs": [],
   "source": [
    "two_best_players = {\n",
    "    \"Brooklyn Nets\": [\"Russell, D'Angelo\", \"Hollis-Jefferson, Rondae\"], \n",
    "    \"Minnesota Timberwolves\":[\"Butler, Jimmy\", \"Towns, Karl-Anthony\"],\n",
    "    \"Golden State Warriors\": [\"Curry, Stephen\", \"Durant, Kevin\"], \n",
    "    \"Los Angeles Clippers\": [\"Griffin, Blake\", \"Williams, Lou\"], \n",
    "    \"Los Angeles Lakers\": [\"Ingram, Brandon\",\"Randle, Julius\"], \n",
    "    \"Washington Wizards\": [\"Beal, Bradley\", \"Wall, John\"], \n",
    "    \"Milwaukee Bucks\": [\"Antetokounmpo, Giannis\", \"Middleton, Khris\"], \n",
    "    \"Toronto Raptors\": [\"DeRozan, DeMar\", \"Lowry, Kyle\"], \n",
    "    \"Philadelphia 76ers\": [\"Embiid, Joel\",\"Simmons, Ben\"], \n",
    "    \"Boston Celtics\":[\"Irving, Kyrie\", \"Horford, Al\"],  \n",
    "    \"Orlando Magic\": [\"Fournier, Evan\",\"Gordon, Aaron\"], \n",
    "    \"Atlanta Hawks\":[\"Schroder, Dennis\", \"Prince, Taurean\"],\n",
    "    \"Houston Rockets\": [\"Harden, James\", \"Paul, Chris\"], \n",
    "    #\"San Antontio Spurs\":  [\"Aldridge, LaMarcus\",\"Gay, Rudy\"], \n",
    "    \"New Orleans Pelicans\": [\"Davis, Anthony\",\"Cousins, DeMarcus\"], \n",
    "    \"Pheonix Suns\": [\"Booker, Devin\",\"Warren, T.J.\"], \n",
    "    \"Sacramento Kings\": [\"Randolph, Zach\", \"Hield, Buddy\"], \n",
    "    \"Portland Trailblazers\": [\"Lillard, Damian\",\"McCollum, CJ\"], \n",
    "    \"Denver Nuggets\": [\"Jokic, Nikola\", \"Harris, Gary\"],\n",
    "    \"Memphis Grizzlies\": [\"Evans, Tyreke\",\"Gasol, Marc\"], \n",
    "    \"Miami Heat\":[\"Dragic, Goran\", \"Waiters, Dion\"], \n",
    "    \"Cleveland Cavaliers\": [\"James, LeBron\", \"Love, Kevin\"], \n",
    "    \"Charlotte Hornets\":[\"Walker, Kemba\", \"Howard, Dwight\"], \n",
    "    \"Chicago Bulls\": [\"Dunn, Kris\", \"Portis, Bobby\"], \n",
    "    \"New York Knicks\": [\"Porzingis, Kristaps\", \"Hardaway Jr., Tim\"], \n",
    "    \"Indiana Pacers\":[\"Oladipo, Victor\", \"Bogdanovic, Bojan\"] , \n",
    "    #\"Utah Jazz\":[\"Mitchell, Donovan\", \"Gobert, Rudy\"] , \n",
    "    \"Detroit Pistons\": [\"Drummond, Andre\",\"Harris, Tobias\"], \n",
    "    \"Dallas Mavericks\": [\"Barnes, Harrison\",\"Matthews, Wesley\"], \n",
    "    \"Oklahoma City Thunder\": [\"Westbrook, Russell\", \"George, Paul\"], \n",
    "    \n",
    "}"
   ]
  },
  {
   "cell_type": "code",
   "execution_count": 738,
   "metadata": {},
   "outputs": [
    {
     "data": {
      "text/plain": [
       "{'Atlanta Hawks': 0.1363636363636364,\n",
       " 'Boston Celtics': 0.1,\n",
       " 'Brooklyn Nets': 0.041666666666666685,\n",
       " 'Charlotte Hornets': 0.25,\n",
       " 'Chicago Bulls': 0.08450704225352114,\n",
       " 'Cleveland Cavaliers': 0.3999999999999999,\n",
       " 'Dallas Mavericks': 0.08333333333333334,\n",
       " 'Denver Nuggets': 0.2413793103448275,\n",
       " 'Detroit Pistons': 0.041666666666666664,\n",
       " 'Golden State Warriors': 0.17857142857142855,\n",
       " 'Houston Rockets': 0.045454545454545456,\n",
       " 'Indiana Pacers': 0.2727272727272727,\n",
       " 'Los Angeles Clippers': 0.10769230769230773,\n",
       " 'Los Angeles Lakers': 0.09999999999999999,\n",
       " 'Memphis Grizzlies': 0.11904761904761907,\n",
       " 'Miami Heat': 0.16666666666666666,\n",
       " 'Milwaukee Bucks': 0.22222222222222232,\n",
       " 'Minnesota Timberwolves': 0.15789473684210525,\n",
       " 'New Orleans Pelicans': 0.07692307692307691,\n",
       " 'New York Knicks': 0.0,\n",
       " 'Oklahoma City Thunder': 0.18181818181818177,\n",
       " 'Orlando Magic': 0.23076923076923073,\n",
       " 'Pheonix Suns': 0.125,\n",
       " 'Philadelphia 76ers': 0.13095238095238096,\n",
       " 'Portland Trailblazers': 0.11764705882352942,\n",
       " 'Sacramento Kings': 0.04999999999999999,\n",
       " 'Toronto Raptors': 0.11111111111111113,\n",
       " 'Washington Wizards': 0.05882352941176472}"
      ]
     },
     "execution_count": 738,
     "metadata": {},
     "output_type": "execute_result"
    }
   ],
   "source": [
    "winning_percentages_reg_two_best= {} \n",
    "\n",
    "for elem in two_best_players:\n",
    "    temp_players = two_best_players[elem]\n",
    "    #print(players[0])\n",
    "    #print(elem)\n",
    "    winning_percentages_reg_two_best[elem] = assist_to_specific_player(temp_players[1], temp_players[0],True)\n",
    "winning_percentages"
   ]
  },
  {
   "cell_type": "code",
   "execution_count": 739,
   "metadata": {},
   "outputs": [
    {
     "data": {
      "text/plain": [
       "{'Atlanta Hawks': 0.23529411764705882,\n",
       " 'Boston Celtics': 0.23529411764705882,\n",
       " 'Brooklyn Nets': 0.23529411764705882,\n",
       " 'Charlotte Hornets': 0.23529411764705882,\n",
       " 'Chicago Bulls': 0.23529411764705882,\n",
       " 'Cleveland Cavaliers': 0.23529411764705882,\n",
       " 'Dallas Mavericks': 0.23529411764705882,\n",
       " 'Denver Nuggets': 0.23529411764705882,\n",
       " 'Detroit Pistons': 0.23529411764705882,\n",
       " 'Golden State Warriors': 0.23529411764705882,\n",
       " 'Houston Rockets': 0.23529411764705882,\n",
       " 'Indiana Pacers': 0.23529411764705882,\n",
       " 'Los Angeles Clippers': 0.23529411764705882,\n",
       " 'Los Angeles Lakers': 0.23529411764705882,\n",
       " 'Memphis Grizzlies': 0.23529411764705882,\n",
       " 'Miami Heat': 0.23529411764705882,\n",
       " 'Milwaukee Bucks': 0.23529411764705882,\n",
       " 'Minnesota Timberwolves': 0.23529411764705882,\n",
       " 'New Orleans Pelicans': 0.23529411764705882,\n",
       " 'New York Knicks': 0.23529411764705882,\n",
       " 'Oklahoma City Thunder': 0.23529411764705882,\n",
       " 'Orlando Magic': 0.23529411764705882,\n",
       " 'Pheonix Suns': 0.23529411764705882,\n",
       " 'Philadelphia 76ers': 0.23529411764705882,\n",
       " 'Portland Trailblazers': 0.23529411764705882,\n",
       " 'Sacramento Kings': 0.23529411764705882,\n",
       " 'Toronto Raptors': 0.23529411764705882,\n",
       " 'Washington Wizards': 0.23529411764705882}"
      ]
     },
     "execution_count": 739,
     "metadata": {},
     "output_type": "execute_result"
    }
   ],
   "source": [
    "losing_percentages = {} \n",
    "#temp = {\"Cleveland Cavaliers\": [\"James, LeBron\", \"Love, Kevin\"]}\n",
    "for elem in two_best_players:\n",
    "    losing_percentages[elem] = assist_to_specific_player(temp_players[1], temp_players[0],False)\n",
    "losing_percentages"
   ]
  },
  {
   "cell_type": "code",
   "execution_count": 740,
   "metadata": {},
   "outputs": [
    {
     "data": {
      "text/plain": [
       "{'Atlanta Hawks': -0.09893048128342241,\n",
       " 'Boston Celtics': -0.13529411764705881,\n",
       " 'Brooklyn Nets': -0.19362745098039214,\n",
       " 'Charlotte Hornets': 0.01470588235294118,\n",
       " 'Chicago Bulls': -0.1507870753935377,\n",
       " 'Cleveland Cavaliers': 0.1647058823529411,\n",
       " 'Dallas Mavericks': -0.15196078431372548,\n",
       " 'Denver Nuggets': 0.006085192697768693,\n",
       " 'Detroit Pistons': -0.19362745098039216,\n",
       " 'Golden State Warriors': -0.05672268907563027,\n",
       " 'Houston Rockets': -0.18983957219251335,\n",
       " 'Indiana Pacers': 0.03743315508021389,\n",
       " 'Los Angeles Clippers': -0.1276018099547511,\n",
       " 'Los Angeles Lakers': -0.13529411764705884,\n",
       " 'Memphis Grizzlies': -0.11624649859943975,\n",
       " 'Miami Heat': -0.06862745098039216,\n",
       " 'Milwaukee Bucks': -0.0130718954248365,\n",
       " 'Minnesota Timberwolves': -0.07739938080495357,\n",
       " 'New Orleans Pelicans': -0.1583710407239819,\n",
       " 'New York Knicks': -0.23529411764705882,\n",
       " 'Oklahoma City Thunder': -0.05347593582887705,\n",
       " 'Orlando Magic': -0.004524886877828094,\n",
       " 'Pheonix Suns': -0.11029411764705882,\n",
       " 'Philadelphia 76ers': -0.10434173669467786,\n",
       " 'Portland Trailblazers': -0.1176470588235294,\n",
       " 'Sacramento Kings': -0.18529411764705883,\n",
       " 'Toronto Raptors': -0.12418300653594769,\n",
       " 'Washington Wizards': -0.1764705882352941}"
      ]
     },
     "execution_count": 740,
     "metadata": {},
     "output_type": "execute_result"
    }
   ],
   "source": [
    "difference_win_minus_loss = {}\n",
    "for elem in winning_percentages:\n",
    "    difference_win_minus_loss[elem] = winning_percentages[elem] - losing_percentages[elem]\n",
    "difference_win_minus_loss"
   ]
  },
  {
   "cell_type": "code",
   "execution_count": 741,
   "metadata": {},
   "outputs": [],
   "source": [
    "num_wins = {\"Brooklyn Nets\": 28, \n",
    "              \"Minnesota Timberwolves\":47 ,\n",
    "              \"Golden State Warriors\": 58, \n",
    "              \"Los Angeles Clippers\": 42, \n",
    "              \"Los Angeles Lakers\": 35, \n",
    "              \"Washington Wizards\": 43, \n",
    "              \"Milwaukee Bucks\": 44, \n",
    "              \"Toronto Raptors\": 59, \n",
    "              \"Philadelphia 76ers\": 52 , \n",
    "              \"Boston Celtics\":55 ,  \n",
    "              \"Orlando Magic\": 29, \"Atlanta Hawks\":24,\n",
    "              \"Houston Rockets\": 65, \n",
    "              \"San Antontio Spurs\":  47, \n",
    "              \"New Orleans Pelicans\": 48, \n",
    "              \"Pheonix Suns\": 21, \n",
    "              \"Sacramento Kings\": 27, \n",
    "              \"Portland Trailblazers\": 49, \n",
    "              \"Denver Nuggets\":46 , \n",
    "              \"Memphis Grizzlies\": 22, \n",
    "              \"Miami Heat\":44, \n",
    "              \"Cleveland Cavaliers\": 50, \n",
    "              \"Charlotte Hornets\":36,\n",
    "              \"Chicago Bulls\": 27, \n",
    "              \"New York Knicks\": 29, \n",
    "              \"Indiana Pacers\":48 , \n",
    "              \"Utah Jazz\":48 , \n",
    "              \"Detroit Pistons\": 39, \n",
    "              \"Dallas Mavericks\": 24, \"Oklahoma City Thunder\": 48,  \n",
    "             }"
   ]
  },
  {
   "cell_type": "code",
   "execution_count": 743,
   "metadata": {},
   "outputs": [
    {
     "data": {
      "image/png": "[encoded data removed]",
      "text/plain": [
       "<Figure size 648x648 with 1 Axes>"
      ]
     },
     "metadata": {},
     "output_type": "display_data"
    },
    {
     "name": "stdout",
     "output_type": "stream",
     "text": [
      "0.410879389621 0.164978570953\n"
     ]
    }
   ],
   "source": [
    "x = []\n",
    "y = []\n",
    "colors=[\"#000000\", \"#FFFF00\", \"#1CE6FF\", \"#FF34FF\", \"#FF4A46\", \"#008941\", \"#006FA6\", \"#A30059\",\n",
    "        \"#FFDBE5\", \"#7A4900\", \"#0000A6\", \"#63FFAC\", \"#B79762\", \"#004D43\", \"#8FB0FF\", \"#997D87\",\n",
    "        \"#5A0007\", \"#809693\", \"#FEFFE6\", \"#1B4400\", \"#4FC601\", \"#3B5DFF\", \"#4A3B53\", \"#FF2F80\",\n",
    "        \"#61615A\", \"#BA0900\", \"#6B7900\", \"#00C2A0\", \"#FFAA92\", \"#FF90C9\"]\n",
    "plt.figure(figsize=(9,9))\n",
    "for team in two_best_players:\n",
    "    xx = num_wins[team]\n",
    "    yy = difference_win_minus_loss[team]\n",
    "    x.append(xx)\n",
    "    y.append(yy)\n",
    "    plt.annotate(team,(xx,yy), fontsize=5)\n",
    "reject_outliers(y,x)\n",
    "plt.scatter(x,y,c=colors)\n",
    "plt.title(\"Change in passing percentages in terms of loss\")\n",
    "plt.xlabel(\"Loses\")\n",
    "plt.ylabel(\"Change in passing percentages among best players\")\n",
    "#plt.show()\n",
    "b,m,r,p,_ = scipy.stats.linregress(x,y)\n",
    "yz = np.poly1d([b,m])(np.arange(74))\n",
    "plt.plot(np.arange(74),yz)\n",
    "plt.show()\n",
    "\n",
    "print(p,r)"
   ]
  },
  {
   "cell_type": "code",
   "execution_count": 851,
   "metadata": {},
   "outputs": [],
   "source": [
    "def reject_outliers(data,corr_data, m=2):\n",
    "    std_dev = np.std(data)\n",
    "    mean = np.mean(data)\n",
    "    temp_indexs = []\n",
    "    for elem in range(len(data)):\n",
    "        if (data[elem] - mean) > m * std_dev :\n",
    "            temp_indexs += [elem]\n",
    "    #print(temp_indexs)\n",
    "    temp_indexs.sort(reverse = True)\n",
    "    for i in temp_indexs:\n",
    "        del data[i]\n",
    "        del corr_data[i]\n",
    "    return\n",
    "\n",
    "\n",
    "    #temp =  [elem for elem in data if elem - mean < m * std_dev]\n",
    "    \n",
    "    #print(len(data))\n",
    "    #print(len(temp))\n",
    "    return data"
   ]
  },
  {
   "cell_type": "code",
   "execution_count": 849,
   "metadata": {},
   "outputs": [],
   "source": [
    "two_best_players_m = {\n",
    "    \"Brooklyn Nets\": [\"Russell, D'Angelo\", \"Hollis-Jefferson, Rondae\"], \n",
    "    \"Minnesota Timberwolves\":[\"Butler, Jimmy\", \"Towns, Karl-Anthony\"],\n",
    "    \"Golden State Warriors\": [\"Curry, Stephen\", \"Durant, Kevin\"], \n",
    "    \"Los Angeles Clippers\": [\"Griffin, Blake\", \"Williams, Lou\"], \n",
    "    \"Los Angeles Lakers\": [\"Ingram, Brandon\",\"Randle, Julius\"], \n",
    "    \"Washington Wizards\": [\"Beal, Bradley\", \"Wall, John\"], \n",
    "    \"Milwaukee Bucks\": [\"Antetokounmpo, Giannis\", \"Middleton, Khris\"], \n",
    "    \"Toronto Raptors\": [\"DeRozan, DeMar\", \"Lowry, Kyle\"], \n",
    "    \"Philadelphia 76ers\": [\"Embiid, Joel\",\"Simmons, Ben\"], \n",
    "    \"Boston Celtics\":[\"Irving, Kyrie\", \"Horford, Al\"],  \n",
    "    \"Orlando Magic\": [\"Fournier, Evan\",\"Gordon, Aaron\"], \n",
    "    \"Atlanta Hawks\":[\"Schroder, Dennis\", \"Prince, Taurean\"],\n",
    "    \"Houston Rockets\": [\"Harden, James\", \"Paul, Chris\"], \n",
    "    #\"San Antontio Spurs\":  [\"Aldridge, LaMarcus\",\"Gay, Rudy\"], \n",
    "    \"New Orleans Pelicans\": [\"Davis, Anthony\",\"Cousins, DeMarcus\"], \n",
    "    \"Pheonix Suns\": [\"Booker, Devin\",\"Warren, T.J.\"], \n",
    "    \"Sacramento Kings\": [\"Randolph, Zach\", \"Hield, Buddy\"], \n",
    "    \"Portland Trailblazers\": [\"Lillard, Damian\",\"McCollum, CJ\"], \n",
    "    \"Denver Nuggets\": [\"Jokic, Nikola\", \"Harris, Gary\"],\n",
    "    \"Memphis Grizzlies\": [\"Evans, Tyreke\",\"Gasol, Marc\"], \n",
    "    \"Miami Heat\":[\"Dragic, Goran\", \"Waiters, Dion\"], \n",
    "    \"Cleveland Cavaliers\": [\"James, LeBron\", \"Love, Kevin\"], \n",
    "    \"Charlotte Hornets\":[\"Walker, Kemba\", \"Howard, Dwight\"], \n",
    "    \"Chicago Bulls\": [\"Dunn, Kris\", \"Portis, Bobby\"], \n",
    "    \"New York Knicks\": [\"Porzingis, Kristaps\", \"Hardaway Jr., Tim\"], \n",
    "    \"Indiana Pacers\":[\"Oladipo, Victor\", \"Bogdanovic, Bojan\"] , \n",
    "    \"Utah Jazz\":[\"Mitchell, Donovan\", \"Gobert, Rudy\"] , \n",
    "    \"Detroit Pistons\": [\"Drummond, Andre\",\"Harris, Tobias\"], \n",
    "    \"Dallas Mavericks\": [\"Barnes, Harrison\",\"Matthews, Wesley\"], \n",
    "    \"Oklahoma City Thunder\": [\"Westbrook, Russell\", \"George, Paul\"], \n",
    "    \n",
    "}"
   ]
  },
  {
   "cell_type": "code",
   "execution_count": 659,
   "metadata": {},
   "outputs": [
    {
     "data": {
      "text/plain": [
       "{'Atlanta Hawks': 0.33855799373040746,\n",
       " 'Boston Celtics': 0.33471074380165283,\n",
       " 'Brooklyn Nets': 0.1805225653206651,\n",
       " 'Charlotte Hornets': 0.5638629283489097,\n",
       " 'Chicago Bulls': 0.17391304347826086,\n",
       " 'Cleveland Cavaliers': 0.4227642276422763,\n",
       " 'Dallas Mavericks': 0.20186335403726702,\n",
       " 'Denver Nuggets': 0.2648221343873518,\n",
       " 'Detroit Pistons': 0.06485355648535562,\n",
       " 'Golden State Warriors': 0.2222222222222222,\n",
       " 'Houston Rockets': 0.22772277227722773,\n",
       " 'Indiana Pacers': 0.2222222222222222,\n",
       " 'Los Angeles Clippers': 0.14138817480719795,\n",
       " 'Los Angeles Lakers': 0.163323782234957,\n",
       " 'Memphis Grizzlies': 0.18543046357615894,\n",
       " 'Miami Heat': 0.2090909090909091,\n",
       " 'Milwaukee Bucks': 0.20187793427230039,\n",
       " 'Minnesota Timberwolves': 0.1613545816733067,\n",
       " 'New Orleans Pelicans': 0.0929853181076672,\n",
       " 'New York Knicks': 0.15273775216138327,\n",
       " 'Oklahoma City Thunder': 0.3925233644859813,\n",
       " 'Orlando Magic': 0.09523809523809522,\n",
       " 'Pheonix Suns': 0.15750915750915753,\n",
       " 'Philadelphia 76ers': 0.14701803051317616,\n",
       " 'Portland Trailblazers': 0.22284122562674097,\n",
       " 'Sacramento Kings': 0.042735042735042736,\n",
       " 'Toronto Raptors': 0.32812500000000006,\n",
       " 'Utah Jazz': 0.22807017543859648,\n",
       " 'Washington Wizards': 0.4019230769230769}"
      ]
     },
     "execution_count": 659,
     "metadata": {},
     "output_type": "execute_result"
    }
   ],
   "source": [
    "winning_percentages2 = {} \n",
    "\n",
    "for elem in two_best_players_m:\n",
    "    temp_players = two_best_players_m[elem]\n",
    "    #print(players[0])\n",
    "    #print(elem)\n",
    "    winning_percentages2[elem] = pass_to_specific_player(temp_players[1], temp_players[0],True)\n",
    "winning_percentages2"
   ]
  },
  {
   "cell_type": "code",
   "execution_count": 660,
   "metadata": {},
   "outputs": [
    {
     "data": {
      "text/plain": [
       "{'Atlanta Hawks': 0.32154340836012857,\n",
       " 'Boston Celtics': 0.32329317269076313,\n",
       " 'Brooklyn Nets': 0.17687074829931973,\n",
       " 'Charlotte Hornets': 0.5618374558303888,\n",
       " 'Chicago Bulls': 0.13015873015873014,\n",
       " 'Cleveland Cavaliers': 0.44108761329305135,\n",
       " 'Dallas Mavericks': 0.19384615384615383,\n",
       " 'Denver Nuggets': 0.23983739837398374,\n",
       " 'Detroit Pistons': 0.06581740976645437,\n",
       " 'Golden State Warriors': 0.1628498727735369,\n",
       " 'Houston Rockets': 0.10693069306930696,\n",
       " 'Indiana Pacers': 0.16822429906542052,\n",
       " 'Los Angeles Clippers': 0.15571776155717762,\n",
       " 'Los Angeles Lakers': 0.1282798833819242,\n",
       " 'Memphis Grizzlies': 0.169811320754717,\n",
       " 'Miami Heat': 0.18227848101265823,\n",
       " 'Milwaukee Bucks': 0.22488038277511951,\n",
       " 'Minnesota Timberwolves': 0.14688128772635814,\n",
       " 'New Orleans Pelicans': 0.07794361525704809,\n",
       " 'New York Knicks': 0.08746355685131192,\n",
       " 'Oklahoma City Thunder': 0.39999999999999986,\n",
       " 'Orlando Magic': 0.07106598984771574,\n",
       " 'Pheonix Suns': 0.14893617021276592,\n",
       " 'Philadelphia 76ers': 0.1566265060240964,\n",
       " 'Portland Trailblazers': 0.23214285714285718,\n",
       " 'Sacramento Kings': 0.07594936708860758,\n",
       " 'Toronto Raptors': 0.3412844036697248,\n",
       " 'Utah Jazz': 0.24078091106290672,\n",
       " 'Washington Wizards': 0.4}"
      ]
     },
     "execution_count": 660,
     "metadata": {},
     "output_type": "execute_result"
    }
   ],
   "source": [
    "losing_percentages2 = {} \n",
    "\n",
    "for elem in two_best_players_m:\n",
    "\n",
    "        temp_players = two_best_players_m[elem]\n",
    "    #print(players[0])\n",
    "    #print(elem)\n",
    "        losing_percentages2[elem] = pass_to_specific_player(temp_players[1], temp_players[0],False)\n",
    "losing_percentages2"
   ]
  },
  {
   "cell_type": "code",
   "execution_count": 523,
   "metadata": {},
   "outputs": [],
   "source": []
  },
  {
   "cell_type": "code",
   "execution_count": 661,
   "metadata": {},
   "outputs": [
    {
     "data": {
      "text/plain": [
       "{'Atlanta Hawks': 0.01701458537027889,\n",
       " 'Boston Celtics': 0.011417571110889702,\n",
       " 'Brooklyn Nets': 0.0036518170213453716,\n",
       " 'Charlotte Hornets': 0.002025472518520921,\n",
       " 'Chicago Bulls': 0.043754313319530724,\n",
       " 'Cleveland Cavaliers': -0.01832338565077507,\n",
       " 'Dallas Mavericks': 0.008017200191113183,\n",
       " 'Denver Nuggets': 0.024984736013368064,\n",
       " 'Detroit Pistons': -0.0009638532810987421,\n",
       " 'Golden State Warriors': 0.0593723494486853,\n",
       " 'Houston Rockets': 0.12079207920792077,\n",
       " 'Indiana Pacers': 0.053997923156801686,\n",
       " 'Los Angeles Clippers': -0.014329586749979667,\n",
       " 'Los Angeles Lakers': 0.0350438988530328,\n",
       " 'Memphis Grizzlies': 0.015619142821441945,\n",
       " 'Miami Heat': 0.026812428078250877,\n",
       " 'Milwaukee Bucks': -0.02300244850281913,\n",
       " 'Minnesota Timberwolves': 0.014473293946948573,\n",
       " 'New Orleans Pelicans': 0.01504170285061912,\n",
       " 'New York Knicks': 0.06527419531007135,\n",
       " 'Oklahoma City Thunder': -0.007476635514018559,\n",
       " 'Orlando Magic': 0.024172105390379478,\n",
       " 'Pheonix Suns': 0.00857298729639161,\n",
       " 'Philadelphia 76ers': -0.009608475510920228,\n",
       " 'Portland Trailblazers': -0.00930163151611621,\n",
       " 'Sacramento Kings': -0.03321432435356485,\n",
       " 'Toronto Raptors': -0.013159403669724734,\n",
       " 'Utah Jazz': -0.012710735624310243,\n",
       " 'Washington Wizards': 0.0019230769230768607}"
      ]
     },
     "execution_count": 661,
     "metadata": {},
     "output_type": "execute_result"
    }
   ],
   "source": [
    "difference_win_minus_loss2 = {}\n",
    "for elem in winning_percentages2:\n",
    "    difference_win_minus_loss2[elem] = winning_percentages2[elem] - losing_percentages2[elem]\n",
    "difference_win_minus_loss2"
   ]
  },
  {
   "cell_type": "code",
   "execution_count": 662,
   "metadata": {},
   "outputs": [
    {
     "data": {
      "image/png": "[encoded data removed]",
      "text/plain": [
       "<Figure size 648x648 with 1 Axes>"
      ]
     },
     "metadata": {},
     "output_type": "display_data"
    }
   ],
   "source": [
    "x = []\n",
    "y = []\n",
    "colors=[\"#000000\", \"#FFFF00\", \"#1CE6FF\", \"#FF34FF\", \"#FF4A46\", \"#008941\", \"#006FA6\", \"#A30059\",\n",
    "        \"#FFDBE5\", \"#7A4900\", \"#0000A6\", \"#63FFAC\", \"#B79762\", \"#004D43\", \"#8FB0FF\", \"#997D87\",\n",
    "        \"#5A0007\", \"#809693\", \"#FEFFE6\", \"#1B4400\", \"#4FC601\", \"#3B5DFF\", \"#4A3B53\", \"#FF2F80\",\n",
    "        \"#61615A\", \"#BA0900\", \"#6B7900\", \"#00C2A0\", \"#FFAA92\", \"#FF90C9\"]\n",
    "plt.figure(figsize=(9,9))\n",
    "for team in two_best_players_m:\n",
    "    xx = num_wins[team]\n",
    "    yy = difference_win_minus_loss2[team]\n",
    "    x.append(xx)\n",
    "    y.append(yy)\n",
    "    plt.annotate(team,(xx,yy), fontsize=5)\n",
    "reject_outliers(y,x)\n",
    "plt.scatter(x,y,c=colors)\n",
    "plt.title(\"Change in passing percentages in terms of loss\")\n",
    "plt.xlabel(\"Loses\")\n",
    "plt.ylabel(\"Change in passing percentages among best players\")\n",
    "#plt.show()\n",
    "b,m,r,p,_ = scipy.stats.linregress(x,y)\n",
    "yz = np.poly1d([b,m])(np.arange(74))\n",
    "plt.plot(np.arange(74),yz)\n",
    "plt.show()"
   ]
  },
  {
   "cell_type": "code",
   "execution_count": 663,
   "metadata": {},
   "outputs": [
    {
     "name": "stdout",
     "output_type": "stream",
     "text": [
      "-0.125077544758 0.525969138114\n"
     ]
    }
   ],
   "source": [
    "print(r,p)"
   ]
  },
  {
   "cell_type": "code",
   "execution_count": 664,
   "metadata": {},
   "outputs": [],
   "source": [
    "def assist_to_specific_player(passing_player,receiving_player,win):\n",
    "    #print(passing_player)\n",
    "    stats = player_stats(passing_player,win)\n",
    "    total = 0\n",
    "    for elem in stats:\n",
    "        total += stats[elem][1]\n",
    "    return stats[receiving_player][1]/total"
   ]
  },
  {
   "cell_type": "code",
   "execution_count": 665,
   "metadata": {},
   "outputs": [
    {
     "data": {
      "text/plain": [
       "{'Atlanta Hawks': 0.07142857142857141,\n",
       " 'Boston Celtics': 0.25000000000000006,\n",
       " 'Brooklyn Nets': 0.041666666666666664,\n",
       " 'Charlotte Hornets': 0.25,\n",
       " 'Chicago Bulls': 0.0625,\n",
       " 'Cleveland Cavaliers': 0.3999999999999999,\n",
       " 'Dallas Mavericks': 0.25806451612903225,\n",
       " 'Denver Nuggets': 0.2413793103448275,\n",
       " 'Detroit Pistons': 0.12499999999999997,\n",
       " 'Golden State Warriors': 0.17857142857142855,\n",
       " 'Houston Rockets': 0.0641025641025641,\n",
       " 'Indiana Pacers': 0.1764705882352941,\n",
       " 'Los Angeles Clippers': 0.11320754716981134,\n",
       " 'Los Angeles Lakers': 0.16666666666666666,\n",
       " 'Memphis Grizzlies': 0.11904761904761907,\n",
       " 'Miami Heat': 0.16666666666666666,\n",
       " 'Milwaukee Bucks': 0.2571428571428571,\n",
       " 'Minnesota Timberwolves': 0.1851851851851852,\n",
       " 'New Orleans Pelicans': 0.28571428571428575,\n",
       " 'New York Knicks': 0.2162162162162162,\n",
       " 'Oklahoma City Thunder': 0.18181818181818177,\n",
       " 'Orlando Magic': 0.23076923076923073,\n",
       " 'Pheonix Suns': 0.125,\n",
       " 'Philadelphia 76ers': 0.13095238095238096,\n",
       " 'Portland Trailblazers': 0.11764705882352942,\n",
       " 'Sacramento Kings': 0.04999999999999999,\n",
       " 'Toronto Raptors': 0.2028985507246377,\n",
       " 'Utah Jazz': 0.17647058823529407,\n",
       " 'Washington Wizards': 0.31111111111111117}"
      ]
     },
     "execution_count": 665,
     "metadata": {},
     "output_type": "execute_result"
    }
   ],
   "source": [
    "winning_percentages3 = {} \n",
    "\n",
    "for elem in two_best_players_m:\n",
    "    temp_players = two_best_players_m[elem]\n",
    "    #print(players[0])\n",
    "    #print(elem)\n",
    "    winning_percentages3[elem] = assist_to_specific_player(temp_players[1], temp_players[0],True)\n",
    "winning_percentages3"
   ]
  },
  {
   "cell_type": "code",
   "execution_count": 666,
   "metadata": {},
   "outputs": [
    {
     "data": {
      "text/plain": [
       "{'Atlanta Hawks': 0.11538461538461536,\n",
       " 'Boston Celtics': 0.2631578947368421,\n",
       " 'Brooklyn Nets': 0.08695652173913043,\n",
       " 'Charlotte Hornets': 0.22222222222222224,\n",
       " 'Chicago Bulls': 0.0,\n",
       " 'Cleveland Cavaliers': 0.6428571428571427,\n",
       " 'Dallas Mavericks': 0.23076923076923075,\n",
       " 'Denver Nuggets': 0.26923076923076916,\n",
       " 'Detroit Pistons': 0.05555555555555555,\n",
       " 'Golden State Warriors': 0.0930232558139535,\n",
       " 'Houston Rockets': 0.04,\n",
       " 'Indiana Pacers': 0.25,\n",
       " 'Los Angeles Clippers': 0.08,\n",
       " 'Los Angeles Lakers': 0.15,\n",
       " 'Memphis Grizzlies': 0.125,\n",
       " 'Miami Heat': 0.09523809523809526,\n",
       " 'Milwaukee Bucks': 0.2439024390243902,\n",
       " 'Minnesota Timberwolves': 0.2,\n",
       " 'New Orleans Pelicans': 0.20000000000000004,\n",
       " 'New York Knicks': 0.17391304347826086,\n",
       " 'Oklahoma City Thunder': 0.23529411764705882,\n",
       " 'Orlando Magic': 0.13043478260869562,\n",
       " 'Pheonix Suns': 0.11111111111111113,\n",
       " 'Philadelphia 76ers': 0.14285714285714288,\n",
       " 'Portland Trailblazers': 0.06451612903225806,\n",
       " 'Sacramento Kings': 0.05263157894736841,\n",
       " 'Toronto Raptors': 0.22033898305084748,\n",
       " 'Utah Jazz': 0.27272727272727276,\n",
       " 'Washington Wizards': 0.2647058823529412}"
      ]
     },
     "execution_count": 666,
     "metadata": {},
     "output_type": "execute_result"
    }
   ],
   "source": [
    "losing_percentages3 = {} \n",
    "\n",
    "for elem in two_best_players_m:\n",
    "    temp_players = two_best_players_m[elem]\n",
    "    #print(players[0])\n",
    "    #print(elem)\n",
    "    losing_percentages3[elem] = assist_to_specific_player(temp_players[1], temp_players[0],False)\n",
    "losing_percentages3"
   ]
  },
  {
   "cell_type": "code",
   "execution_count": 667,
   "metadata": {},
   "outputs": [
    {
     "data": {
      "text/plain": [
       "{'Atlanta Hawks': -0.04395604395604395,\n",
       " 'Boston Celtics': -0.013157894736842035,\n",
       " 'Brooklyn Nets': -0.04528985507246377,\n",
       " 'Charlotte Hornets': 0.027777777777777762,\n",
       " 'Chicago Bulls': 0.0625,\n",
       " 'Cleveland Cavaliers': -0.24285714285714277,\n",
       " 'Dallas Mavericks': 0.027295285359801497,\n",
       " 'Denver Nuggets': -0.02785145888594165,\n",
       " 'Detroit Pistons': 0.06944444444444442,\n",
       " 'Golden State Warriors': 0.08554817275747505,\n",
       " 'Houston Rockets': 0.024102564102564096,\n",
       " 'Indiana Pacers': -0.0735294117647059,\n",
       " 'Los Angeles Clippers': 0.033207547169811336,\n",
       " 'Los Angeles Lakers': 0.016666666666666663,\n",
       " 'Memphis Grizzlies': -0.005952380952380931,\n",
       " 'Miami Heat': 0.0714285714285714,\n",
       " 'Milwaukee Bucks': 0.013240418118466907,\n",
       " 'Minnesota Timberwolves': -0.014814814814814808,\n",
       " 'New Orleans Pelicans': 0.08571428571428572,\n",
       " 'New York Knicks': 0.042303172737955336,\n",
       " 'Oklahoma City Thunder': -0.05347593582887705,\n",
       " 'Orlando Magic': 0.1003344481605351,\n",
       " 'Pheonix Suns': 0.013888888888888867,\n",
       " 'Philadelphia 76ers': -0.011904761904761918,\n",
       " 'Portland Trailblazers': 0.05313092979127136,\n",
       " 'Sacramento Kings': -0.0026315789473684223,\n",
       " 'Toronto Raptors': -0.017440432326209787,\n",
       " 'Utah Jazz': -0.09625668449197869,\n",
       " 'Washington Wizards': 0.04640522875816999}"
      ]
     },
     "execution_count": 667,
     "metadata": {},
     "output_type": "execute_result"
    }
   ],
   "source": [
    "difference_win_minus_loss3 = {}\n",
    "for elem in winning_percentages3:\n",
    "    difference_win_minus_loss3[elem] = winning_percentages3[elem] - losing_percentages3[elem]\n",
    "difference_win_minus_loss3"
   ]
  },
  {
   "cell_type": "code",
   "execution_count": 668,
   "metadata": {},
   "outputs": [
    {
     "data": {
      "image/png": "[encoded data removed]",
      "text/plain": [
       "<Figure size 648x648 with 1 Axes>"
      ]
     },
     "metadata": {},
     "output_type": "display_data"
    }
   ],
   "source": [
    "x = []\n",
    "y = []\n",
    "colors=[\"#000000\", \"#FFFF00\", \"#1CE6FF\", \"#FF34FF\", \"#FF4A46\", \"#008941\", \"#006FA6\", \"#A30059\",\n",
    "        \"#FFDBE5\", \"#7A4900\", \"#0000A6\", \"#63FFAC\", \"#B79762\", \"#004D43\", \"#8FB0FF\", \"#997D87\",\n",
    "        \"#5A0007\", \"#809693\", \"#FEFFE6\", \"#1B4400\", \"#4FC601\", \"#3B5DFF\", \"#4A3B53\", \"#FF2F80\",\n",
    "        \"#61615A\", \"#BA0900\", \"#6B7900\", \"#00C2A0\", \"#FFAA92\", \"#FF90C9\"]\n",
    "plt.figure(figsize=(9,9))\n",
    "for team in two_best_players_m:\n",
    "    xx = num_wins[team]\n",
    "    yy = difference_win_minus_loss3[team]\n",
    "    x.append(xx)\n",
    "    y.append(yy)\n",
    "    plt.annotate(team,(xx,yy), fontsize=5)\n",
    "reject_outliers(y,x)\n",
    "plt.scatter(x,y,c=colors)\n",
    "plt.title(\"Change in passing percentages in terms of loss\")\n",
    "plt.xlabel(\"Loses\")\n",
    "plt.ylabel(\"Change in passing percentages among best players\")\n",
    "#plt.show()\n",
    "b,m,r,p,_ = scipy.stats.linregress(x,y)\n",
    "yz = np.poly1d([b,m])(np.arange(74))\n",
    "plt.plot(np.arange(74),yz)\n",
    "plt.show()"
   ]
  },
  {
   "cell_type": "code",
   "execution_count": 532,
   "metadata": {},
   "outputs": [
    {
     "name": "stdout",
     "output_type": "stream",
     "text": [
      "-0.144472287547 0.454628612068\n"
     ]
    }
   ],
   "source": [
    "print(r,p)"
   ]
  },
  {
   "cell_type": "code",
   "execution_count": 669,
   "metadata": {},
   "outputs": [
    {
     "data": {
      "text/plain": [
       "{'Atlanta Hawks': 0.16901408450704228,\n",
       " 'Boston Celtics': 0.29411764705882354,\n",
       " 'Brooklyn Nets': 0.14285714285714288,\n",
       " 'Charlotte Hornets': 0.2295081967213115,\n",
       " 'Chicago Bulls': 0.08450704225352114,\n",
       " 'Cleveland Cavaliers': 0.2,\n",
       " 'Dallas Mavericks': 0.125,\n",
       " 'Denver Nuggets': 0.2608695652173914,\n",
       " 'Detroit Pistons': 0.125,\n",
       " 'Golden State Warriors': 0.19672131147540983,\n",
       " 'Houston Rockets': 0.034090909090909095,\n",
       " 'Indiana Pacers': 0.20000000000000004,\n",
       " 'Los Angeles Clippers': 0.10769230769230773,\n",
       " 'Los Angeles Lakers': 0.20930232558139536,\n",
       " 'Memphis Grizzlies': 0.21428571428571436,\n",
       " 'Miami Heat': 0.05660377358490566,\n",
       " 'Milwaukee Bucks': 0.17647058823529416,\n",
       " 'Minnesota Timberwolves': 0.326530612244898,\n",
       " 'New Orleans Pelicans': 0.07692307692307691,\n",
       " 'New York Knicks': 0.07142857142857141,\n",
       " 'Oklahoma City Thunder': 0.21296296296296294,\n",
       " 'Orlando Magic': 0.0857142857142857,\n",
       " 'Pheonix Suns': 0.3095238095238096,\n",
       " 'Philadelphia 76ers': 0.18749999999999994,\n",
       " 'Portland Trailblazers': 0.18571428571428575,\n",
       " 'Sacramento Kings': 0.1111111111111111,\n",
       " 'Toronto Raptors': 0.23636363636363641,\n",
       " 'Utah Jazz': 0.15,\n",
       " 'Washington Wizards': 0.05882352941176472}"
      ]
     },
     "execution_count": 669,
     "metadata": {},
     "output_type": "execute_result"
    }
   ],
   "source": [
    "winning_percentages4 = {} \n",
    "\n",
    "for elem in two_best_players_m:\n",
    "    temp_players = two_best_players_m[elem]\n",
    "    #print(players[0])\n",
    "    #print(elem)\n",
    "    winning_percentages4[elem] = assist_to_specific_player(temp_players[0], temp_players[1],True)\n",
    "winning_percentages4"
   ]
  },
  {
   "cell_type": "code",
   "execution_count": 670,
   "metadata": {},
   "outputs": [
    {
     "data": {
      "text/plain": [
       "{'Atlanta Hawks': 0.11538461538461536,\n",
       " 'Boston Celtics': 0.2631578947368421,\n",
       " 'Brooklyn Nets': 0.08695652173913043,\n",
       " 'Charlotte Hornets': 0.22222222222222224,\n",
       " 'Chicago Bulls': 0.0,\n",
       " 'Cleveland Cavaliers': 0.6428571428571427,\n",
       " 'Dallas Mavericks': 0.23076923076923075,\n",
       " 'Denver Nuggets': 0.26923076923076916,\n",
       " 'Detroit Pistons': 0.05555555555555555,\n",
       " 'Golden State Warriors': 0.0930232558139535,\n",
       " 'Houston Rockets': 0.04,\n",
       " 'Indiana Pacers': 0.25,\n",
       " 'Los Angeles Clippers': 0.08,\n",
       " 'Los Angeles Lakers': 0.15,\n",
       " 'Memphis Grizzlies': 0.125,\n",
       " 'Miami Heat': 0.09523809523809526,\n",
       " 'Milwaukee Bucks': 0.2439024390243902,\n",
       " 'Minnesota Timberwolves': 0.2,\n",
       " 'New Orleans Pelicans': 0.20000000000000004,\n",
       " 'New York Knicks': 0.17391304347826086,\n",
       " 'Oklahoma City Thunder': 0.23529411764705882,\n",
       " 'Orlando Magic': 0.13043478260869562,\n",
       " 'Pheonix Suns': 0.11111111111111113,\n",
       " 'Philadelphia 76ers': 0.14285714285714288,\n",
       " 'Portland Trailblazers': 0.06451612903225806,\n",
       " 'Sacramento Kings': 0.05263157894736841,\n",
       " 'Toronto Raptors': 0.22033898305084748,\n",
       " 'Utah Jazz': 0.27272727272727276,\n",
       " 'Washington Wizards': 0.2647058823529412}"
      ]
     },
     "execution_count": 670,
     "metadata": {},
     "output_type": "execute_result"
    }
   ],
   "source": [
    "losing_percentages4 = {} \n",
    "\n",
    "for elem in two_best_players_m:\n",
    "    temp_players = two_best_players_m[elem]\n",
    "    #print(players[0])\n",
    "    #print(elem)\n",
    "    losing_percentages4[elem] = assist_to_specific_player(temp_players[1], temp_players[0],False)\n",
    "losing_percentages4"
   ]
  },
  {
   "cell_type": "code",
   "execution_count": 671,
   "metadata": {},
   "outputs": [
    {
     "data": {
      "text/plain": [
       "{'Atlanta Hawks': 0.053629469122426915,\n",
       " 'Boston Celtics': 0.03095975232198145,\n",
       " 'Brooklyn Nets': 0.055900621118012445,\n",
       " 'Charlotte Hornets': 0.0072859744990892705,\n",
       " 'Chicago Bulls': 0.08450704225352114,\n",
       " 'Cleveland Cavaliers': -0.44285714285714267,\n",
       " 'Dallas Mavericks': -0.10576923076923075,\n",
       " 'Denver Nuggets': -0.008361204013377754,\n",
       " 'Detroit Pistons': 0.06944444444444445,\n",
       " 'Golden State Warriors': 0.10369805566145633,\n",
       " 'Houston Rockets': -0.0059090909090909055,\n",
       " 'Indiana Pacers': -0.04999999999999996,\n",
       " 'Los Angeles Clippers': 0.027692307692307724,\n",
       " 'Los Angeles Lakers': 0.059302325581395365,\n",
       " 'Memphis Grizzlies': 0.08928571428571436,\n",
       " 'Miami Heat': -0.0386343216531896,\n",
       " 'Milwaukee Bucks': -0.06743185078909605,\n",
       " 'Minnesota Timberwolves': 0.12653061224489798,\n",
       " 'New Orleans Pelicans': -0.12307692307692313,\n",
       " 'New York Knicks': -0.10248447204968945,\n",
       " 'Oklahoma City Thunder': -0.022331154684095883,\n",
       " 'Orlando Magic': -0.04472049689440992,\n",
       " 'Pheonix Suns': 0.19841269841269846,\n",
       " 'Philadelphia 76ers': 0.04464285714285707,\n",
       " 'Portland Trailblazers': 0.12119815668202769,\n",
       " 'Sacramento Kings': 0.058479532163742694,\n",
       " 'Toronto Raptors': 0.016024653312788933,\n",
       " 'Utah Jazz': -0.12272727272727277,\n",
       " 'Washington Wizards': -0.20588235294117646}"
      ]
     },
     "execution_count": 671,
     "metadata": {},
     "output_type": "execute_result"
    }
   ],
   "source": [
    "difference_win_minus_loss4 = {}\n",
    "for elem in winning_percentages3:\n",
    "    difference_win_minus_loss4[elem] = winning_percentages4[elem] - losing_percentages4[elem]\n",
    "difference_win_minus_loss4"
   ]
  },
  {
   "cell_type": "code",
   "execution_count": 833,
   "metadata": {},
   "outputs": [
    {
     "data": {
      "image/png": "[encoded data removed]",
      "text/plain": [
       "<Figure size 648x648 with 1 Axes>"
      ]
     },
     "metadata": {},
     "output_type": "display_data"
    }
   ],
   "source": [
    "x = []\n",
    "y = []\n",
    "colors=[\"#000000\", \"#FFFF00\", \"#1CE6FF\", \"#FF34FF\", \"#FF4A46\", \"#008941\", \"#006FA6\", \"#A30059\",\n",
    "        \"#FFDBE5\", \"#7A4900\", \"#0000A6\", \"#63FFAC\", \"#B79762\", \"#004D43\", \"#8FB0FF\", \"#997D87\",\n",
    "        \"#5A0007\", \"#809693\", \"#FEFFE6\", \"#1B4400\", \"#4FC601\", \"#3B5DFF\", \"#4A3B53\", \"#FF2F80\",\n",
    "        \"#61615A\", \"#BA0900\", \"#6B7900\", \"#00C2A0\", \"#FFAA92\", \"#FF90C9\"]\n",
    "plt.figure(figsize=(9,9))\n",
    "for team in two_best_players_m:\n",
    "    xx = 82 - num_wins[team]\n",
    "    yy = difference_win_minus_loss4[team]\n",
    "    x.append(xx)\n",
    "    y.append(yy)\n",
    "    plt.annotate(team,(xx,yy), fontsize=5)\n",
    "reject_outliers(y,x)\n",
    "plt.scatter(x,y,c=colors)\n",
    "plt.title(\"Change in passing percentages in terms of loss\")\n",
    "plt.xlabel(\"Loses\")\n",
    "plt.ylabel(\"Change in passing percentages among best players\")\n",
    "#plt.show()\n",
    "b,m,r,p,_ = scipy.stats.linregress(x,y)\n",
    "yz = np.poly1d([b,m])(np.arange(74))\n",
    "plt.plot(np.arange(74),yz)\n",
    "plt.show()"
   ]
  },
  {
   "cell_type": "code",
   "execution_count": 834,
   "metadata": {},
   "outputs": [
    {
     "name": "stdout",
     "output_type": "stream",
     "text": [
      "0.207533785714 0.28002692944\n"
     ]
    }
   ],
   "source": [
    "print(r,p)"
   ]
  },
  {
   "cell_type": "code",
   "execution_count": 882,
   "metadata": {},
   "outputs": [],
   "source": [
    "two_best_players_win_shares= {\n",
    "    \"Brooklyn Nets\": [\"Russell, D'Angelo\", \"LeVert, Caris\"], \n",
    "    \"Minnesota Timberwolves\":[\"Butler, Jimmy\", \"Wiggins, Andrew\"],\n",
    "    \"Golden State Warriors\": [\"Curry, Stephen\", \"Durant, Kevin\"], \n",
    "    \"Los Angeles Clippers\": [\"Williams, Lou\",\"Griffin, Blake\"], \n",
    "    \"Los Angeles Lakers\": [\"Clarkson, Jordan\",\"Randle, Julius\"], \n",
    "    \"Washington Wizards\": [\"Wall, John\",\"Beal, Bradley\"], \n",
    "    \"Milwaukee Bucks\": [\"Antetokounmpo, Giannis\", \"Bledsoe, Eric\"], \n",
    "    \"Toronto Raptors\": [\"DeRozan, DeMar\", \"Valanciunas, Jonas\"], \n",
    "    \"Philadelphia 76ers\": [\"Embiid, Joel\",\"Simmons, Ben\"], \n",
    "    \"Boston Celtics\":[\"Irving, Kyrie\", \"Morris, Marcus\"],  \n",
    "    \"Orlando Magic\": [\"Vucevic, Nikola\",\"Gordon, Aaron\"], \n",
    "    \"Atlanta Hawks\":[\"Schroder, Dennis\", \"Bazemore, Kent\"],\n",
    "    \"Houston Rockets\": [\"Harden, James\", \"Gordon, Eric\"], \n",
    "    #\"San Antontio Spurs\":  [\"Aldridge, LaMarcus\",\"Gay, Rudy\"], \n",
    "    \"New Orleans Pelicans\": [\"Cousins, DeMarcus\",\"Davis, Anthony\",], \n",
    "    \"Pheonix Suns\": [\"Booker, Devin\",\"Warren, T.J.\"], \n",
    "    \"Sacramento Kings\": [\"Randolph, Zach\", \"Hield, Buddy\"], \n",
    "    \"Portland Trailblazers\": [\"Lillard, Damian\",\"McCollum, CJ\"], \n",
    "    \"Denver Nuggets\": [\"Jokic, Nikola\", \"Harris, Gary\"],\n",
    "    \"Memphis Grizzlies\": [\"Evans, Tyreke\",\"Gasol, Marc\"], \n",
    "    \"Miami Heat\":[\"Dragic, Goran\", \"Waiters, Dion\"], \n",
    "    \"Cleveland Cavaliers\": [\"James, LeBron\", \"Love, Kevin\"], \n",
    "    \"Charlotte Hornets\":[\"Walker, Kemba\", \"Howard, Dwight\"], \n",
    "    \"Chicago Bulls\": [\"Portis, Bobby\",\"Dunn, Kris\"], \n",
    "    \"New York Knicks\": [\"Porzingis, Kristaps\", \"Beasley, Michael\"], \n",
    "    \"Indiana Pacers\":[\"Oladipo, Victor\", \"Sabonis, Domantas\"] , \n",
    "    #\"Utah Jazz\":[\"Mitchell, Donovan\", \"Gobert, Rudy\"] , \n",
    "    \"Detroit Pistons\": [\"Harris, Tobias\",\"Jackson, Reggie\"], \n",
    "    \"Dallas Mavericks\": [\"Barnes, Harrison\",\"Barea, J.J.\"], \n",
    "    \"Oklahoma City Thunder\": [\"Westbrook, Russell\", \"George, Paul\"], \n",
    "    \n",
    "}"
   ]
  },
  {
   "cell_type": "code",
   "execution_count": 857,
   "metadata": {},
   "outputs": [
    {
     "data": {
      "text/plain": [
       "{'Atlanta Hawks': 0.41709844559585485,\n",
       " 'Boston Celtics': 0.206081081081081,\n",
       " 'Brooklyn Nets': 0.07204610951008647,\n",
       " 'Charlotte Hornets': 0.5638629283489097,\n",
       " 'Chicago Bulls': 0.07534246575342467,\n",
       " 'Cleveland Cavaliers': 0.4227642276422763,\n",
       " 'Dallas Mavericks': 0.10638297872340426,\n",
       " 'Denver Nuggets': 0.2648221343873518,\n",
       " 'Detroit Pistons': 0.2545090180360722,\n",
       " 'Golden State Warriors': 0.2222222222222222,\n",
       " 'Houston Rockets': 0.1782178217821782,\n",
       " 'Indiana Pacers': 0.1930693069306931,\n",
       " 'Los Angeles Clippers': 0.14144736842105265,\n",
       " 'Los Angeles Lakers': 0.12893982808022922,\n",
       " 'Memphis Grizzlies': 0.18543046357615894,\n",
       " 'Miami Heat': 0.2090909090909091,\n",
       " 'Milwaukee Bucks': 0.2924335378323108,\n",
       " 'Minnesota Timberwolves': 0.10859728506787329,\n",
       " 'New Orleans Pelicans': 0.05689277899343542,\n",
       " 'New York Knicks': 0.008849557522123892,\n",
       " 'Oklahoma City Thunder': 0.3925233644859813,\n",
       " 'Orlando Magic': 0.14536340852130322,\n",
       " 'Pheonix Suns': 0.15750915750915753,\n",
       " 'Philadelphia 76ers': 0.14701803051317616,\n",
       " 'Portland Trailblazers': 0.22284122562674097,\n",
       " 'Sacramento Kings': 0.042735042735042736,\n",
       " 'Toronto Raptors': 0.27146814404432124,\n",
       " 'Utah Jazz': 0.22807017543859648,\n",
       " 'Washington Wizards': 0.15184381778741865}"
      ]
     },
     "execution_count": 857,
     "metadata": {},
     "output_type": "execute_result"
    }
   ],
   "source": [
    "winning_percentages_5 = {} \n",
    "\n",
    "for elem in two_best_players_usage:\n",
    "    temp_players = two_best_players_usage[elem]\n",
    "    #print(players[0])\n",
    "    #print(elem)\n",
    "    winning_percentages_5[elem] = pass_to_specific_player(temp_players[1], temp_players[0],True)\n",
    "winning_percentages_5"
   ]
  },
  {
   "cell_type": "code",
   "execution_count": 858,
   "metadata": {},
   "outputs": [
    {
     "data": {
      "text/plain": [
       "{'Atlanta Hawks': 0.3306010928961748,\n",
       " 'Boston Celtics': 0.21202531645569617,\n",
       " 'Brooklyn Nets': 0.09141274238227146,\n",
       " 'Charlotte Hornets': 0.5618374558303888,\n",
       " 'Chicago Bulls': 0.09057301293900186,\n",
       " 'Cleveland Cavaliers': 0.44108761329305135,\n",
       " 'Dallas Mavericks': 0.13645621181262726,\n",
       " 'Denver Nuggets': 0.23983739837398374,\n",
       " 'Detroit Pistons': 0.27348643006263046,\n",
       " 'Golden State Warriors': 0.1628498727735369,\n",
       " 'Houston Rockets': 0.17131474103585656,\n",
       " 'Indiana Pacers': 0.17999999999999994,\n",
       " 'Los Angeles Clippers': 0.13179571663920925,\n",
       " 'Los Angeles Lakers': 0.15451895043731775,\n",
       " 'Memphis Grizzlies': 0.169811320754717,\n",
       " 'Miami Heat': 0.18227848101265823,\n",
       " 'Milwaukee Bucks': 0.26716141001855287,\n",
       " 'Minnesota Timberwolves': 0.07272727272727272,\n",
       " 'New Orleans Pelicans': 0.05250596658711216,\n",
       " 'New York Knicks': 0.013468013468013471,\n",
       " 'Oklahoma City Thunder': 0.39999999999999986,\n",
       " 'Orlando Magic': 0.1370558375634518,\n",
       " 'Pheonix Suns': 0.14893617021276592,\n",
       " 'Philadelphia 76ers': 0.1566265060240964,\n",
       " 'Portland Trailblazers': 0.23214285714285718,\n",
       " 'Sacramento Kings': 0.07594936708860758,\n",
       " 'Toronto Raptors': 0.25825825825825816,\n",
       " 'Utah Jazz': 0.24078091106290672,\n",
       " 'Washington Wizards': 0.12415349887133184}"
      ]
     },
     "execution_count": 858,
     "metadata": {},
     "output_type": "execute_result"
    }
   ],
   "source": [
    "losing_percentages_5 = {} \n",
    "\n",
    "for elem in two_best_players_usage:\n",
    "    temp_players = two_best_players_usage[elem]\n",
    "    #print(players[0])\n",
    "    #print(elem)\n",
    "    losing_percentages_5[elem] = pass_to_specific_player(temp_players[1], temp_players[0],False)\n",
    "losing_percentages_5"
   ]
  },
  {
   "cell_type": "code",
   "execution_count": 859,
   "metadata": {},
   "outputs": [
    {
     "data": {
      "text/plain": [
       "{'Atlanta Hawks': 0.08649735269968006,\n",
       " 'Boston Celtics': -0.005944235374615164,\n",
       " 'Brooklyn Nets': -0.019366632872184986,\n",
       " 'Charlotte Hornets': 0.002025472518520921,\n",
       " 'Chicago Bulls': -0.01523054718557719,\n",
       " 'Cleveland Cavaliers': -0.01832338565077507,\n",
       " 'Dallas Mavericks': -0.03007323308922301,\n",
       " 'Denver Nuggets': 0.024984736013368064,\n",
       " 'Detroit Pistons': -0.018977412026558282,\n",
       " 'Golden State Warriors': 0.0593723494486853,\n",
       " 'Houston Rockets': 0.006903080746321649,\n",
       " 'Indiana Pacers': 0.013069306930693164,\n",
       " 'Los Angeles Clippers': 0.009651651781843407,\n",
       " 'Los Angeles Lakers': -0.025579122357088535,\n",
       " 'Memphis Grizzlies': 0.015619142821441945,\n",
       " 'Miami Heat': 0.026812428078250877,\n",
       " 'Milwaukee Bucks': 0.025272127813757927,\n",
       " 'Minnesota Timberwolves': 0.03587001234060057,\n",
       " 'New Orleans Pelicans': 0.004386812406323264,\n",
       " 'New York Knicks': -0.004618455945889579,\n",
       " 'Oklahoma City Thunder': -0.007476635514018559,\n",
       " 'Orlando Magic': 0.008307570957851423,\n",
       " 'Pheonix Suns': 0.00857298729639161,\n",
       " 'Philadelphia 76ers': -0.009608475510920228,\n",
       " 'Portland Trailblazers': -0.00930163151611621,\n",
       " 'Sacramento Kings': -0.03321432435356485,\n",
       " 'Toronto Raptors': 0.01320988578606308,\n",
       " 'Utah Jazz': -0.012710735624310243,\n",
       " 'Washington Wizards': 0.02769031891608681}"
      ]
     },
     "execution_count": 859,
     "metadata": {},
     "output_type": "execute_result"
    }
   ],
   "source": [
    "difference_win_minus_loss_5 = {}\n",
    "for elem in winning_percentages_5:\n",
    "    difference_win_minus_loss_5[elem] = winning_percentages_5[elem] - losing_percentages_5[elem]\n",
    "difference_win_minus_loss_5"
   ]
  },
  {
   "cell_type": "code",
   "execution_count": 860,
   "metadata": {},
   "outputs": [
    {
     "data": {
      "image/png": "[encoded data removed]",
      "text/plain": [
       "<Figure size 648x648 with 1 Axes>"
      ]
     },
     "metadata": {},
     "output_type": "display_data"
    }
   ],
   "source": [
    "x = []\n",
    "y = []\n",
    "colors=[\"#000000\", \"#FFFF00\", \"#1CE6FF\", \"#FF34FF\", \"#FF4A46\", \"#008941\", \"#006FA6\", \"#A30059\",\n",
    "        \"#FFDBE5\", \"#7A4900\", \"#0000A6\", \"#63FFAC\", \"#B79762\", \"#004D43\", \"#8FB0FF\", \"#997D87\",\n",
    "        \"#5A0007\", \"#809693\", \"#FEFFE6\", \"#1B4400\", \"#4FC601\", \"#3B5DFF\", \"#4A3B53\", \"#FF2F80\",\n",
    "        \"#61615A\", \"#BA0900\", \"#6B7900\", \"#00C2A0\", \"#FFAA92\", \"#FF90C9\"]\n",
    "plt.figure(figsize=(9,9))\n",
    "for team in two_best_players_usage:\n",
    "    xx = num_wins[team]\n",
    "    yy = difference_win_minus_loss_5[team]\n",
    "    x.append(xx)\n",
    "    y.append(yy)\n",
    "    plt.annotate(team,(xx,yy), fontsize=5)\n",
    "reject_outliers(y,x)\n",
    "plt.scatter(x,y,c=colors)\n",
    "plt.title(\"Change in passing percentages for the two best players\")\n",
    "plt.xlabel(\"Wins\")\n",
    "plt.ylabel(\"Change in passing percentages (wins - losses)\")\n",
    "#plt.show()\n",
    "b,m,r,p,_ = scipy.stats.linregress(x,y)\n",
    "yz = np.poly1d([b,m])(np.arange(74))\n",
    "plt.plot(np.arange(74),yz)\n",
    "plt.show()"
   ]
  },
  {
   "cell_type": "code",
   "execution_count": 861,
   "metadata": {},
   "outputs": [
    {
     "name": "stdout",
     "output_type": "stream",
     "text": [
      "0.156345864442 0.280553051057\n"
     ]
    }
   ],
   "source": [
    "print(p,r)"
   ]
  },
  {
   "cell_type": "code",
   "execution_count": 835,
   "metadata": {},
   "outputs": [
    {
     "data": {
      "text/plain": [
       "{'Atlanta Hawks': 0.11058451816745656,\n",
       " 'Boston Celtics': 0.33471074380165283,\n",
       " 'Brooklyn Nets': 0.320665083135392,\n",
       " 'Charlotte Hornets': 0.5638629283489097,\n",
       " 'Chicago Bulls': 0.16040100250626568,\n",
       " 'Dallas Mavericks': 0.09498680738786276,\n",
       " 'Denver Nuggets': 0.2252475247524752,\n",
       " 'Detroit Pistons': 0.16846652267818574,\n",
       " 'Golden State Warriors': 0.2222222222222222,\n",
       " 'Houston Rockets': 0.5091863517060365,\n",
       " 'Indiana Pacers': 0.2776617954070981,\n",
       " 'Los Angeles Clippers': 0.029605263157894746,\n",
       " 'Los Angeles Lakers': 0.15302491103202845,\n",
       " 'Memphis Grizzlies': 0.18543046357615894,\n",
       " 'Miami Heat': 0.1632653061224489,\n",
       " 'Milwaukee Bucks': 0.20187793427230039,\n",
       " 'Minnesota Timberwolves': 0.2569269521410579,\n",
       " 'New Orleans Pelicans': 0.0929853181076672,\n",
       " 'New York Knicks': 0.14525139664804468,\n",
       " 'Oklahoma City Thunder': 0.5877862595419847,\n",
       " 'Orlando Magic': 0.13626373626373628,\n",
       " 'Pheonix Suns': 0.0695970695970696,\n",
       " 'Philadelphia 76ers': 0.34949494949494947,\n",
       " 'Portland Trailblazers': 0.22284122562674097,\n",
       " 'Sacramento Kings': 0.10256410256410256,\n",
       " 'San Antontio Spurs': 0.17337461300309598,\n",
       " 'Toronto Raptors': 0.24523160762942783,\n",
       " 'Utah Jazz': 0.03061224489795918,\n",
       " 'Washington Wizards': 0.1067073170731707}"
      ]
     },
     "execution_count": 835,
     "metadata": {},
     "output_type": "execute_result"
    }
   ],
   "source": [
    "winning_percentages1 = {} \n",
    "\n",
    "for elem in two_best_players_win_shares:\n",
    "    temp_players = two_best_players_win_shares[elem]\n",
    "    #print(players[0])\n",
    "    #print(elem)\n",
    "    winning_percentages1[elem] = pass_to_specific_player(temp_players[0], temp_players[1],True)\n",
    "winning_percentages1"
   ]
  },
  {
   "cell_type": "code",
   "execution_count": 840,
   "metadata": {},
   "outputs": [
    {
     "data": {
      "text/plain": [
       "{'Atlanta Hawks': 0.3069306930693069,\n",
       " 'Boston Celtics': 0.26964285714285713,\n",
       " 'Brooklyn Nets': 0.18312387791741466,\n",
       " 'Charlotte Hornets': 0.15978456014362658,\n",
       " 'Chicago Bulls': 0.2571428571428571,\n",
       " 'Dallas Mavericks': 0.07516339869281047,\n",
       " 'Denver Nuggets': 0.16225165562913907,\n",
       " 'Detroit Pistons': 0.1858407079646018,\n",
       " 'Golden State Warriors': 0.24712643678160914,\n",
       " 'Houston Rockets': 0.12660944206008581,\n",
       " 'Indiana Pacers': 0.24871794871794875,\n",
       " 'Los Angeles Clippers': 0.05203619909502263,\n",
       " 'Los Angeles Lakers': 0.12244897959183672,\n",
       " 'Memphis Grizzlies': 0.288135593220339,\n",
       " 'Miami Heat': 0.07213930348258706,\n",
       " 'Milwaukee Bucks': 0.1590106007067138,\n",
       " 'Minnesota Timberwolves': 0.14688128772635814,\n",
       " 'New Orleans Pelicans': 0.05250596658711216,\n",
       " 'New York Knicks': 0.14859437751004012,\n",
       " 'Oklahoma City Thunder': 0.18269230769230765,\n",
       " 'Orlando Magic': 0.1688311688311688,\n",
       " 'Pheonix Suns': 0.09999999999999999,\n",
       " 'Philadelphia 76ers': 0.1566265060240964,\n",
       " 'Portland Trailblazers': 0.22862453531598512,\n",
       " 'Sacramento Kings': 0.0902255639097744,\n",
       " 'San Antontio Spurs': 0.09358288770053476,\n",
       " 'Toronto Raptors': 0.3412844036697248,\n",
       " 'Utah Jazz': 0.013015184381778741,\n",
       " 'Washington Wizards': 0.1169230769230769}"
      ]
     },
     "execution_count": 840,
     "metadata": {},
     "output_type": "execute_result"
    }
   ],
   "source": [
    "losing_percentages1 = {} \n",
    "\n",
    "for elem in two_best_players_win_shares:\n",
    "    temp_players = two_best_players_win_shares[elem]\n",
    "    #print(players[0])\n",
    "    #print(elem)\n",
    "    \n",
    "    losing_percentages1[elem] = pass_to_specific_player(temp_players[0], temp_players[1],False)\n",
    "losing_percentages1"
   ]
  },
  {
   "cell_type": "code",
   "execution_count": 841,
   "metadata": {},
   "outputs": [
    {
     "data": {
      "text/plain": [
       "{'Atlanta Hawks': -0.19634617490185036,\n",
       " 'Boston Celtics': 0.0650678866587957,\n",
       " 'Brooklyn Nets': 0.13754120521797733,\n",
       " 'Charlotte Hornets': 0.40407836820528314,\n",
       " 'Chicago Bulls': -0.09674185463659143,\n",
       " 'Dallas Mavericks': 0.019823408695052294,\n",
       " 'Denver Nuggets': 0.06299586912333613,\n",
       " 'Detroit Pistons': -0.017374185286416072,\n",
       " 'Golden State Warriors': -0.024904214559386934,\n",
       " 'Houston Rockets': 0.3825769096459507,\n",
       " 'Indiana Pacers': 0.028943846689149372,\n",
       " 'Los Angeles Clippers': -0.02243093593712788,\n",
       " 'Los Angeles Lakers': 0.03057593144019173,\n",
       " 'Memphis Grizzlies': -0.10270512964418005,\n",
       " 'Miami Heat': 0.09112600263986186,\n",
       " 'Milwaukee Bucks': 0.042867333565586585,\n",
       " 'Minnesota Timberwolves': 0.11004566441469973,\n",
       " 'New Orleans Pelicans': 0.04047935152055505,\n",
       " 'New York Knicks': -0.0033429808619954426,\n",
       " 'Oklahoma City Thunder': 0.40509395184967706,\n",
       " 'Orlando Magic': -0.032567432567432525,\n",
       " 'Pheonix Suns': -0.030402930402930392,\n",
       " 'Philadelphia 76ers': 0.19286844347085308,\n",
       " 'Portland Trailblazers': -0.005783309689244148,\n",
       " 'Sacramento Kings': 0.012338538654328157,\n",
       " 'San Antontio Spurs': 0.07979172530256122,\n",
       " 'Toronto Raptors': -0.09605279604029696,\n",
       " 'Utah Jazz': 0.017597060516180436,\n",
       " 'Washington Wizards': -0.010215759849906192}"
      ]
     },
     "execution_count": 841,
     "metadata": {},
     "output_type": "execute_result"
    }
   ],
   "source": [
    "difference_win_minus_loss1 = {}\n",
    "for elem in winning_percentages1:\n",
    "    difference_win_minus_loss1[elem] = winning_percentages1[elem] - losing_percentages1[elem]\n",
    "difference_win_minus_loss1\n"
   ]
  },
  {
   "cell_type": "code",
   "execution_count": 853,
   "metadata": {},
   "outputs": [
    {
     "data": {
      "image/png": "[encoded data removed]",
      "text/plain": [
       "<Figure size 648x648 with 1 Axes>"
      ]
     },
     "metadata": {},
     "output_type": "display_data"
    }
   ],
   "source": [
    "x = []\n",
    "y = []\n",
    "colors=[\"#000000\", \"#FFFF00\", \"#1CE6FF\", \"#FF34FF\", \"#FF4A46\", \"#008941\", \"#006FA6\", \"#A30059\",\n",
    "        \"#FFDBE5\", \"#7A4900\", \"#0000A6\", \"#63FFAC\", \"#B79762\", \"#004D43\", \"#8FB0FF\", \"#997D87\",\n",
    "        \"#5A0007\", \"#809693\", \"#FEFFE6\", \"#1B4400\", \"#4FC601\", \"#3B5DFF\", \"#4A3B53\", \"#FF2F80\",\n",
    "        \"#61615A\", \"#BA0900\", \"#6B7900\", \"#00C2A0\", \"#FFAA92\", \"#FF90C9\"]\n",
    "plt.figure(figsize=(9,9))\n",
    "for team in two_best_players_win_shares:\n",
    "    xx = num_wins[team] \n",
    "    yy = difference_win_minus_loss1[team]\n",
    "    x.append(xx)\n",
    "    y.append(yy)\n",
    "    plt.annotate(team,(xx,yy), fontsize=5)\n",
    "reject_outliers(y,x)\n",
    "plt.scatter(x,y,c=colors)\n",
    "plt.title(\"Change in passing percentages between two best players\")\n",
    "plt.xlabel(\"Wins\")\n",
    "plt.ylabel(\"Change in passing percentages (wins - losses)\")\n",
    "#plt.show()\n",
    "b,m,r,p,_ = scipy.stats.linregress(x,y)\n",
    "yz = np.poly1d([b,m])(np.arange(74))\n",
    "plt.plot(np.arange(74),yz)\n",
    "plt.show()"
   ]
  },
  {
   "cell_type": "code",
   "execution_count": 854,
   "metadata": {},
   "outputs": [
    {
     "name": "stdout",
     "output_type": "stream",
     "text": [
      "0.370324149202 0.0625667321298\n"
     ]
    }
   ],
   "source": [
    "print(r,p)"
   ]
  },
  {
   "cell_type": "code",
   "execution_count": 912,
   "metadata": {},
   "outputs": [
    {
     "data": {
      "text/plain": [
       "{'Atlanta Hawks': 0.41709844559585485,\n",
       " 'Boston Celtics': 0.206081081081081,\n",
       " 'Brooklyn Nets': 0.07204610951008647,\n",
       " 'Charlotte Hornets': 0.5638629283489097,\n",
       " 'Chicago Bulls': 0.07534246575342467,\n",
       " 'Cleveland Cavaliers': 0.4227642276422763,\n",
       " 'Dallas Mavericks': 0.10638297872340426,\n",
       " 'Denver Nuggets': 0.2648221343873518,\n",
       " 'Detroit Pistons': 0.2545090180360722,\n",
       " 'Golden State Warriors': 0.2222222222222222,\n",
       " 'Houston Rockets': 0.1782178217821782,\n",
       " 'Indiana Pacers': 0.1930693069306931,\n",
       " 'Los Angeles Clippers': 0.14144736842105265,\n",
       " 'Los Angeles Lakers': 0.12893982808022922,\n",
       " 'Memphis Grizzlies': 0.18543046357615894,\n",
       " 'Miami Heat': 0.2090909090909091,\n",
       " 'Milwaukee Bucks': 0.2924335378323108,\n",
       " 'Minnesota Timberwolves': 0.10859728506787329,\n",
       " 'New Orleans Pelicans': 0.05689277899343542,\n",
       " 'New York Knicks': 0.008849557522123892,\n",
       " 'Oklahoma City Thunder': 0.3925233644859813,\n",
       " 'Orlando Magic': 0.14536340852130322,\n",
       " 'Pheonix Suns': 0.15750915750915753,\n",
       " 'Philadelphia 76ers': 0.14701803051317616,\n",
       " 'Portland Trailblazers': 0.22284122562674097,\n",
       " 'Sacramento Kings': 0.042735042735042736,\n",
       " 'Toronto Raptors': 0.27146814404432124,\n",
       " 'Washington Wizards': 0.15184381778741865}"
      ]
     },
     "execution_count": 912,
     "metadata": {},
     "output_type": "execute_result"
    }
   ],
   "source": [
    "winning_percentages_6 = {} \n",
    "\n",
    "for elem in two_best_players_win_shares:\n",
    "    temp_players = two_best_players_win_shares[elem]\n",
    "    #print(players[0])\n",
    "    #print(elem)\n",
    "    winning_percentages_6[elem] = pass_to_specific_player(temp_players[1], temp_players[0],True)\n",
    "winning_percentages_6"
   ]
  },
  {
   "cell_type": "code",
   "execution_count": 913,
   "metadata": {},
   "outputs": [
    {
     "data": {
      "text/plain": [
       "{'Atlanta Hawks': 0.3306010928961748,\n",
       " 'Boston Celtics': 0.21202531645569617,\n",
       " 'Brooklyn Nets': 0.09141274238227146,\n",
       " 'Charlotte Hornets': 0.5618374558303888,\n",
       " 'Chicago Bulls': 0.09057301293900186,\n",
       " 'Cleveland Cavaliers': 0.44108761329305135,\n",
       " 'Dallas Mavericks': 0.13645621181262726,\n",
       " 'Denver Nuggets': 0.23983739837398374,\n",
       " 'Detroit Pistons': 0.27348643006263046,\n",
       " 'Golden State Warriors': 0.1628498727735369,\n",
       " 'Houston Rockets': 0.17131474103585656,\n",
       " 'Indiana Pacers': 0.17999999999999994,\n",
       " 'Los Angeles Clippers': 0.13179571663920925,\n",
       " 'Los Angeles Lakers': 0.15451895043731775,\n",
       " 'Memphis Grizzlies': 0.169811320754717,\n",
       " 'Miami Heat': 0.18227848101265823,\n",
       " 'Milwaukee Bucks': 0.26716141001855287,\n",
       " 'Minnesota Timberwolves': 0.07272727272727272,\n",
       " 'New Orleans Pelicans': 0.05250596658711216,\n",
       " 'New York Knicks': 0.013468013468013471,\n",
       " 'Oklahoma City Thunder': 0.39999999999999986,\n",
       " 'Orlando Magic': 0.1370558375634518,\n",
       " 'Pheonix Suns': 0.14893617021276592,\n",
       " 'Philadelphia 76ers': 0.1566265060240964,\n",
       " 'Portland Trailblazers': 0.23214285714285718,\n",
       " 'Sacramento Kings': 0.07594936708860758,\n",
       " 'Toronto Raptors': 0.25825825825825816,\n",
       " 'Washington Wizards': 0.12415349887133184}"
      ]
     },
     "execution_count": 913,
     "metadata": {},
     "output_type": "execute_result"
    }
   ],
   "source": [
    "losing_percentages_6 = {} \n",
    "\n",
    "for elem in two_best_players_win_shares:\n",
    "    temp_players = two_best_players_win_shares[elem]\n",
    "    #print(players[0])\n",
    "    #print(elem)\n",
    "    losing_percentages_6[elem] = pass_to_specific_player(temp_players[1], temp_players[0],False)\n",
    "losing_percentages_6"
   ]
  },
  {
   "cell_type": "code",
   "execution_count": 914,
   "metadata": {},
   "outputs": [
    {
     "data": {
      "text/plain": [
       "{'Atlanta Hawks': 0.08649735269968006,\n",
       " 'Boston Celtics': -0.005944235374615164,\n",
       " 'Brooklyn Nets': -0.019366632872184986,\n",
       " 'Charlotte Hornets': 0.002025472518520921,\n",
       " 'Chicago Bulls': -0.01523054718557719,\n",
       " 'Cleveland Cavaliers': -0.01832338565077507,\n",
       " 'Dallas Mavericks': -0.03007323308922301,\n",
       " 'Denver Nuggets': 0.024984736013368064,\n",
       " 'Detroit Pistons': -0.018977412026558282,\n",
       " 'Golden State Warriors': 0.0593723494486853,\n",
       " 'Houston Rockets': 0.006903080746321649,\n",
       " 'Indiana Pacers': 0.013069306930693164,\n",
       " 'Los Angeles Clippers': 0.009651651781843407,\n",
       " 'Los Angeles Lakers': -0.025579122357088535,\n",
       " 'Memphis Grizzlies': 0.015619142821441945,\n",
       " 'Miami Heat': 0.026812428078250877,\n",
       " 'Milwaukee Bucks': 0.025272127813757927,\n",
       " 'Minnesota Timberwolves': 0.03587001234060057,\n",
       " 'New Orleans Pelicans': 0.004386812406323264,\n",
       " 'New York Knicks': -0.004618455945889579,\n",
       " 'Oklahoma City Thunder': -0.007476635514018559,\n",
       " 'Orlando Magic': 0.008307570957851423,\n",
       " 'Pheonix Suns': 0.00857298729639161,\n",
       " 'Philadelphia 76ers': -0.009608475510920228,\n",
       " 'Portland Trailblazers': -0.00930163151611621,\n",
       " 'Sacramento Kings': -0.03321432435356485,\n",
       " 'Toronto Raptors': 0.01320988578606308,\n",
       " 'Washington Wizards': 0.02769031891608681}"
      ]
     },
     "execution_count": 914,
     "metadata": {},
     "output_type": "execute_result"
    }
   ],
   "source": [
    "difference_win_minus_loss_6 = {}\n",
    "for elem in winning_percentages_6:\n",
    "    difference_win_minus_loss_6[elem] = winning_percentages_6[elem] - losing_percentages_6[elem]\n",
    "difference_win_minus_loss_6"
   ]
  },
  {
   "cell_type": "code",
   "execution_count": 915,
   "metadata": {},
   "outputs": [
    {
     "data": {
      "image/png": "[encoded data removed]",
      "text/plain": [
       "<Figure size 648x648 with 1 Axes>"
      ]
     },
     "metadata": {},
     "output_type": "display_data"
    }
   ],
   "source": [
    "x = []\n",
    "y = []\n",
    "colors=[\"#000000\", \"#FFFF00\", \"#1CE6FF\", \"#FF34FF\", \"#FF4A46\", \"#008941\", \"#006FA6\", \"#A30059\",\n",
    "        \"#FFDBE5\", \"#7A4900\", \"#0000A6\", \"#63FFAC\", \"#B79762\", \"#004D43\", \"#8FB0FF\", \"#997D87\",\n",
    "        \"#5A0007\", \"#809693\", \"#FEFFE6\", \"#1B4400\", \"#4FC601\", \"#3B5DFF\", \"#4A3B53\", \"#FF2F80\",\n",
    "        \"#61615A\", \"#BA0900\", \"#6B7900\", \"#00C2A0\", \"#FFAA92\", \"#FF90C9\"]\n",
    "plt.figure(figsize=(9,9))\n",
    "for team in two_best_players_win_shares:\n",
    "    xx = num_wins[team] \n",
    "    yy = difference_win_minus_loss_6[team]\n",
    "    x.append(xx)\n",
    "    y.append(yy)\n",
    "    plt.annotate(team,(xx,yy), fontsize=5)\n",
    "reject_outliers(y,x)\n",
    "plt.scatter(x,y,c=colors)\n",
    "plt.title(\"Change in assist percentages between two best players\")\n",
    "plt.xlabel(\"Wins\")\n",
    "plt.ylabel(\"Change in assist percentages (wins - losses)\")\n",
    "#plt.show()\n",
    "b,m,r,p,_ = scipy.stats.linregress(x,y)\n",
    "yz = np.poly1d([b,m])(np.arange(74))\n",
    "plt.plot(np.arange(74),yz)\n",
    "plt.show()"
   ]
  },
  {
   "cell_type": "code",
   "execution_count": 916,
   "metadata": {},
   "outputs": [
    {
     "name": "stdout",
     "output_type": "stream",
     "text": [
      "0.302285387998 0.133375890023\n"
     ]
    }
   ],
   "source": [
    "print(r,p)"
   ]
  },
  {
   "cell_type": "code",
   "execution_count": 906,
   "metadata": {},
   "outputs": [
    {
     "data": {
      "text/plain": [
       "{'Atlanta Hawks': 0.15492957746478878,\n",
       " 'Boston Celtics': 0.09803921568627452,\n",
       " 'Brooklyn Nets': 0.0634920634920635,\n",
       " 'Charlotte Hornets': 0.2295081967213115,\n",
       " 'Chicago Bulls': 0.0625,\n",
       " 'Cleveland Cavaliers': 0.2,\n",
       " 'Dallas Mavericks': 0.0625,\n",
       " 'Denver Nuggets': 0.2608695652173914,\n",
       " 'Detroit Pistons': 0.041666666666666664,\n",
       " 'Golden State Warriors': 0.19672131147540983,\n",
       " 'Houston Rockets': 0.11363636363636365,\n",
       " 'Indiana Pacers': 0.1777777777777778,\n",
       " 'Los Angeles Clippers': 0.11320754716981134,\n",
       " 'Los Angeles Lakers': 0.19230769230769224,\n",
       " 'Memphis Grizzlies': 0.21428571428571436,\n",
       " 'Miami Heat': 0.05660377358490566,\n",
       " 'Milwaukee Bucks': 0.23529411764705888,\n",
       " 'Minnesota Timberwolves': 0.163265306122449,\n",
       " 'New Orleans Pelicans': 0.28571428571428575,\n",
       " 'New York Knicks': 0.0,\n",
       " 'Oklahoma City Thunder': 0.21296296296296294,\n",
       " 'Orlando Magic': 0.2647058823529412,\n",
       " 'Pheonix Suns': 0.3095238095238096,\n",
       " 'Philadelphia 76ers': 0.18749999999999994,\n",
       " 'Portland Trailblazers': 0.18571428571428575,\n",
       " 'Sacramento Kings': 0.1111111111111111,\n",
       " 'Toronto Raptors': 0.18181818181818185,\n",
       " 'Washington Wizards': 0.31111111111111117}"
      ]
     },
     "execution_count": 906,
     "metadata": {},
     "output_type": "execute_result"
    }
   ],
   "source": [
    "winning_percentages_7 = {} \n",
    "\n",
    "for elem in two_best_players_win_shares:\n",
    "    temp_players = two_best_players_win_shares[elem]\n",
    "    #print(players[0])\n",
    "    #print(elem)\n",
    "    winning_percentages_7[elem] = assist_to_specific_player(temp_players[0], temp_players[1],True)\n",
    "winning_percentages_7"
   ]
  },
  {
   "cell_type": "code",
   "execution_count": 907,
   "metadata": {},
   "outputs": [
    {
     "data": {
      "text/plain": [
       "{'Atlanta Hawks': 0.14285714285714288,\n",
       " 'Boston Celtics': 0.10638297872340427,\n",
       " 'Brooklyn Nets': 0.04347826086956523,\n",
       " 'Charlotte Hornets': 0.19607843137254904,\n",
       " 'Chicago Bulls': 0.0,\n",
       " 'Cleveland Cavaliers': 0.1621621621621622,\n",
       " 'Dallas Mavericks': 0.04999999999999999,\n",
       " 'Denver Nuggets': 0.3043478260869566,\n",
       " 'Detroit Pistons': 0.0,\n",
       " 'Golden State Warriors': 0.2641509433962264,\n",
       " 'Houston Rockets': 0.20512820512820515,\n",
       " 'Indiana Pacers': 0.21052631578947367,\n",
       " 'Los Angeles Clippers': 0.08,\n",
       " 'Los Angeles Lakers': 0.18518518518518512,\n",
       " 'Memphis Grizzlies': 0.27999999999999997,\n",
       " 'Miami Heat': 0.04651162790697676,\n",
       " 'Milwaukee Bucks': 0.1702127659574469,\n",
       " 'Minnesota Timberwolves': 0.28260869565217395,\n",
       " 'New Orleans Pelicans': 0.20000000000000004,\n",
       " 'New York Knicks': 0.0,\n",
       " 'Oklahoma City Thunder': 0.23863636363636367,\n",
       " 'Orlando Magic': 0.18749999999999994,\n",
       " 'Pheonix Suns': 0.22916666666666669,\n",
       " 'Philadelphia 76ers': 0.2413793103448275,\n",
       " 'Portland Trailblazers': 0.11864406779661016,\n",
       " 'Sacramento Kings': 0.09999999999999998,\n",
       " 'Toronto Raptors': 0.31914893617021284,\n",
       " 'Washington Wizards': 0.2647058823529412}"
      ]
     },
     "execution_count": 907,
     "metadata": {},
     "output_type": "execute_result"
    }
   ],
   "source": [
    "losing_percentages_7 = {} \n",
    "\n",
    "for elem in two_best_players_win_shares:\n",
    "    temp_players = two_best_players_win_shares[elem]\n",
    "    #print(players[0])\n",
    "    #print(elem)\n",
    "    losing_percentages_7[elem] = assist_to_specific_player(temp_players[0], temp_players[1],False)\n",
    "losing_percentages_7"
   ]
  },
  {
   "cell_type": "code",
   "execution_count": 908,
   "metadata": {},
   "outputs": [
    {
     "data": {
      "text/plain": [
       "{'Atlanta Hawks': 0.012072434607645899,\n",
       " 'Boston Celtics': -0.008343763037129748,\n",
       " 'Brooklyn Nets': 0.020013802622498272,\n",
       " 'Charlotte Hornets': 0.033429765348762464,\n",
       " 'Chicago Bulls': 0.0625,\n",
       " 'Cleveland Cavaliers': 0.03783783783783781,\n",
       " 'Dallas Mavericks': 0.012500000000000011,\n",
       " 'Denver Nuggets': -0.04347826086956519,\n",
       " 'Detroit Pistons': 0.041666666666666664,\n",
       " 'Golden State Warriors': -0.06742963192081658,\n",
       " 'Houston Rockets': -0.0914918414918415,\n",
       " 'Indiana Pacers': -0.03274853801169586,\n",
       " 'Los Angeles Clippers': 0.033207547169811336,\n",
       " 'Los Angeles Lakers': 0.007122507122507116,\n",
       " 'Memphis Grizzlies': -0.06571428571428561,\n",
       " 'Miami Heat': 0.010092145677928904,\n",
       " 'Milwaukee Bucks': 0.06508135168961199,\n",
       " 'Minnesota Timberwolves': -0.11934338952972495,\n",
       " 'New Orleans Pelicans': 0.08571428571428572,\n",
       " 'New York Knicks': 0.0,\n",
       " 'Oklahoma City Thunder': -0.025673400673400737,\n",
       " 'Orlando Magic': 0.07720588235294124,\n",
       " 'Pheonix Suns': 0.0803571428571429,\n",
       " 'Philadelphia 76ers': -0.05387931034482757,\n",
       " 'Portland Trailblazers': 0.06707021791767559,\n",
       " 'Sacramento Kings': 0.011111111111111127,\n",
       " 'Toronto Raptors': -0.137330754352031,\n",
       " 'Washington Wizards': 0.04640522875816999}"
      ]
     },
     "execution_count": 908,
     "metadata": {},
     "output_type": "execute_result"
    }
   ],
   "source": [
    "difference_win_minus_loss_7 = {}\n",
    "for elem in winning_percentages_7:\n",
    "    difference_win_minus_loss_7[elem] = winning_percentages_7[elem] - losing_percentages_7[elem]\n",
    "difference_win_minus_loss_7"
   ]
  },
  {
   "cell_type": "code",
   "execution_count": 909,
   "metadata": {},
   "outputs": [
    {
     "data": {
      "image/png": "[encoded data removed]",
      "text/plain": [
       "<Figure size 648x648 with 1 Axes>"
      ]
     },
     "metadata": {},
     "output_type": "display_data"
    }
   ],
   "source": [
    "x = []\n",
    "y = []\n",
    "colors=[\"#000000\", \"#FFFF00\", \"#1CE6FF\", \"#FF34FF\", \"#FF4A46\", \"#008941\", \"#006FA6\", \"#A30059\",\n",
    "        \"#FFDBE5\", \"#7A4900\", \"#0000A6\", \"#63FFAC\", \"#B79762\", \"#004D43\", \"#8FB0FF\", \"#997D87\",\n",
    "        \"#5A0007\", \"#809693\", \"#FEFFE6\", \"#1B4400\", \"#4FC601\", \"#3B5DFF\", \"#4A3B53\", \"#FF2F80\",\n",
    "        \"#61615A\", \"#BA0900\", \"#6B7900\", \"#00C2A0\", \"#FFAA92\", \"#FF90C9\"]\n",
    "plt.figure(figsize=(9,9))\n",
    "for team in two_best_players_win_shares:\n",
    "    xx = num_wins[team] \n",
    "    yy = difference_win_minus_loss_7[team]\n",
    "    x.append(xx)\n",
    "    y.append(yy)\n",
    "    plt.annotate(team,(xx,yy), fontsize=5)\n",
    "reject_outliers(y,x)\n",
    "plt.scatter(x,y,c=colors)\n",
    "plt.title(\"Change in assist percentages between two best players\")\n",
    "plt.xlabel(\"Wins\")\n",
    "plt.ylabel(\"Change in assist percentages (wins - losses)\")\n",
    "#plt.show()\n",
    "b,m,r,p,_ = scipy.stats.linregress(x,y)\n",
    "yz = np.poly1d([b,m])(np.arange(74))\n",
    "plt.plot(np.arange(74),yz)\n",
    "plt.show()"
   ]
  },
  {
   "cell_type": "code",
   "execution_count": 910,
   "metadata": {},
   "outputs": [
    {
     "name": "stdout",
     "output_type": "stream",
     "text": [
      "-0.463038452837 0.0130885956625\n"
     ]
    }
   ],
   "source": [
    "print(r,p)"
   ]
  },
  {
   "cell_type": "code",
   "execution_count": 920,
   "metadata": {},
   "outputs": [
    {
     "data": {
      "image/png": "[encoded data removed]",
      "text/plain": [
       "<Figure size 648x648 with 1 Axes>"
      ]
     },
     "metadata": {},
     "output_type": "display_data"
    }
   ],
   "source": [
    "winning_percentages_8 = {} \n",
    "\n",
    "for elem in two_best_players_usage:\n",
    "    temp_players = two_best_players_usage[elem]\n",
    "    #print(players[0])\n",
    "    #print(elem)\n",
    "    winning_percentages_8[elem] = pass_to_specific_player(temp_players[1], temp_players[0],True)\n",
    "losing_percentages_8 = {} \n",
    "\n",
    "for elem in two_best_players_win_shares:\n",
    "    temp_players = two_best_players_win_shares[elem]\n",
    "    #print(players[0])\n",
    "    #print(elem)\n",
    "    losing_percentages_8[elem] = pass_to_specific_player(temp_players[1], temp_players[0],False)\n",
    "difference_win_minus_loss_8 = {}\n",
    "for elem in winning_percentages_8:\n",
    "    difference_win_minus_loss_8[elem] = winning_percentages_8[elem] - losing_percentages_8[elem]\n",
    "x = []\n",
    "y = []\n",
    "colors=[\"#000000\", \"#FFFF00\", \"#1CE6FF\", \"#FF34FF\", \"#FF4A46\", \"#008941\", \"#006FA6\", \"#A30059\",\n",
    "        \"#FFDBE5\", \"#7A4900\", \"#0000A6\", \"#63FFAC\", \"#B79762\", \"#004D43\", \"#8FB0FF\", \"#997D87\",\n",
    "        \"#5A0007\", \"#809693\", \"#FEFFE6\", \"#1B4400\", \"#4FC601\", \"#3B5DFF\", \"#4A3B53\", \"#FF2F80\",\n",
    "        \"#61615A\", \"#BA0900\", \"#6B7900\", \"#00C2A0\", \"#FFAA92\", \"#FF90C9\"]\n",
    "plt.figure(figsize=(9,9))\n",
    "for team in two_best_players_win_shares:\n",
    "    xx = num_wins[team] \n",
    "    yy = difference_win_minus_loss_8[team]\n",
    "    x.append(xx)\n",
    "    y.append(yy)\n",
    "    plt.annotate(team,(xx,yy), fontsize=5)\n",
    "reject_outliers(y,x)\n",
    "plt.scatter(x,y,c=colors)\n",
    "plt.title(\"Change in assist percentages between two best players\")\n",
    "plt.xlabel(\"Wins\")\n",
    "plt.ylabel(\"Change in assist percentages (wins - losses)\")\n",
    "#plt.show()\n",
    "b,m,r,p,_ = scipy.stats.linregress(x,y)\n",
    "yz = np.poly1d([b,m])(np.arange(74))\n",
    "plt.plot(np.arange(74),yz)\n",
    "plt.show()"
   ]
  },
  {
   "cell_type": "code",
   "execution_count": 921,
   "metadata": {},
   "outputs": [
    {
     "name": "stdout",
     "output_type": "stream",
     "text": [
      "0.302285387998 0.133375890023\n"
     ]
    }
   ],
   "source": [
    "print(r,p)"
   ]
  },
  {
   "cell_type": "code",
   "execution_count": 932,
   "metadata": {},
   "outputs": [
    {
     "data": {
      "image/png": "[encoded data removed]",
      "text/plain": [
       "<Figure size 648x648 with 1 Axes>"
      ]
     },
     "metadata": {},
     "output_type": "display_data"
    }
   ],
   "source": [
    "winning_percentages_8 = {} \n",
    "\n",
    "for elem in two_best_players_usage:\n",
    "    temp_players = two_best_players_usage[elem]\n",
    "    #print(players[0])\n",
    "    #print(elem)\n",
    "    winning_percentages_8[elem] = pass_to_specific_player(temp_players[1], temp_players[0],True)\n",
    "losing_percentages_8 = {} \n",
    "\n",
    "for elem in two_best_players_win_shares:\n",
    "    temp_players = two_best_players_usage[elem]\n",
    "    #print(players[0])\n",
    "    #print(elem)\n",
    "    losing_percentages_8[elem] = pass_to_specific_player(temp_players[1], temp_players[0],False)\n",
    "difference_win_minus_loss_8 = {}\n",
    "for elem in winning_percentages_8:\n",
    "    difference_win_minus_loss_8[elem] = winning_percentages_8[elem] - losing_percentages_8[elem]\n",
    "x = []\n",
    "y = []\n",
    "colors=[\"#000000\", \"#FFFF00\", \"#1CE6FF\", \"#FF34FF\", \"#FF4A46\", \"#008941\", \"#006FA6\", \"#A30059\",\n",
    "        \"#FFDBE5\", \"#7A4900\", \"#0000A6\", \"#63FFAC\", \"#B79762\", \"#004D43\", \"#8FB0FF\", \"#997D87\",\n",
    "        \"#5A0007\", \"#809693\", \"#FEFFE6\", \"#1B4400\", \"#4FC601\", \"#3B5DFF\", \"#4A3B53\", \"#FF2F80\",\n",
    "        \"#61615A\", \"#BA0900\", \"#6B7900\", \"#00C2A0\", \"#FFAA92\", \"#FF90C9\"]\n",
    "plt.figure(figsize=(9,9))\n",
    "for team in two_best_players_win_shares:\n",
    "    yy = num_wins[team] \n",
    "    xx = difference_win_minus_loss_8[team]\n",
    "    x.append(xx)\n",
    "    y.append(yy)\n",
    "    plt.annotate(team,(xx,yy), fontsize=5)\n",
    "reject_outliers(y,x)\n",
    "plt.scatter(x,y,c=colors)\n",
    "plt.title(\"Change in assist percentages between two best players\")\n",
    "plt.xlabel(\"Wins\")\n",
    "plt.ylabel(\"Change in assist percentages (wins - losses)\")\n",
    "#plt.show()\n",
    "b,m,r,p,_ = scipy.stats.linregress(x,y)\n",
    "yz = np.poly1d([b,m])(np.arange(74))\n",
    "plt.plot(np.arange(74),yz)\n",
    "plt.show()"
   ]
  },
  {
   "cell_type": "code",
   "execution_count": 933,
   "metadata": {},
   "outputs": [
    {
     "name": "stdout",
     "output_type": "stream",
     "text": [
      "0.157098844641 0.43388516502\n"
     ]
    }
   ],
   "source": [
    "print(r,p)"
   ]
  },
  {
   "cell_type": "code",
   "execution_count": null,
   "metadata": {},
   "outputs": [],
   "source": []
  }
 ],
 "metadata": {
  "kernelspec": {
   "display_name": "Python 3",
   "language": "python",
   "name": "python3"
  },
  "language_info": {
   "codemirror_mode": {
    "name": "ipython",
    "version": 3
   },
   "file_extension": ".py",
   "mimetype": "text/x-python",
   "name": "python",
   "nbconvert_exporter": "python",
   "pygments_lexer": "ipython3",
   "version": "3.6.2"
  }
 },
 "nbformat": 4,
 "nbformat_minor": 2
}
