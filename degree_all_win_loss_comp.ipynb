{
 "cells": [
  {
   "cell_type": "code",
   "execution_count": 8,
   "metadata": {},
   "outputs": [],
   "source": [
    "import numpy as np\n",
    "import matplotlib.pyplot as plt\n",
    "import json\n",
    "import networkx as nx\n",
    "import scipy.stats\n",
    "\n",
    "franchises = {\"Brooklyn Nets\": 1610612751, \"Minnesota Timberwolves\":1610612750 ,\"Golden State Warriors\": 1610612744, \n",
    "              \"Los Angeles Clippers\": 1610612746, \"Los Angeles Lakers\": 1610612747, \"Washington Wizards\": 1610612764, \n",
    "              \"Milwaukee Bucks\": 1610612749, \"Toronto Raptors\": 1610612761, \"Philadelphia 76ers\": 1610612755 , \n",
    "              \"Boston Celtics\":1610612738 ,  \"Orlando Magic\": 1610612753, \"Atlanta Hawks\":1610612737,\n",
    "              \"Houston Rockets\": 1610612745 , \"San Antontio Spurs\":  1610612759, \"New Orleans Pelicans\": 1610612740, \n",
    "              \"Pheonix Suns\": 1610612756, \"Sacramento Kings\": 1610612758, \"Portland Trailblazers\": 1610612757, \n",
    "              \"Denver Nuggets\":1610612743 , \"Memphis Grizzlies\": 1610612763, \"Miami Heat\":1610612748, \n",
    "              \"Cleveland Cavaliers\": 1610612739, \"Charlotte Hornets\":1610612766, \"Chicago Bulls\": 1610612741, \n",
    "              \"New York Knicks\": 1610612752, \"Indiana Pacers\":1610612754 , \"Utah Jazz\":1610612762 , \n",
    "              \"Detroit Pistons\": 1610612765, \"Dallas Mavericks\": 1610612742, \"Oklahoma City Thunder\": 1610612760,  \n",
    "             }\n",
    "num_wins = {\"Brooklyn Nets\": 28, \n",
    "              \"Minnesota Timberwolves\":47 ,\n",
    "              \"Golden State Warriors\": 58, \n",
    "              \"Los Angeles Clippers\": 42, \n",
    "              \"Los Angeles Lakers\": 35, \n",
    "              \"Washington Wizards\": 43, \n",
    "              \"Milwaukee Bucks\": 44, \n",
    "              \"Toronto Raptors\": 59, \n",
    "              \"Philadelphia 76ers\": 52 , \n",
    "              \"Boston Celtics\":55 ,  \n",
    "              \"Orlando Magic\": 29, \"Atlanta Hawks\":24,\n",
    "              \"Houston Rockets\": 65, \n",
    "              \"San Antontio Spurs\":  47, \n",
    "              \"New Orleans Pelicans\": 48, \n",
    "              \"Pheonix Suns\": 21, \n",
    "              \"Sacramento Kings\": 27, \n",
    "              \"Portland Trailblazers\": 49, \n",
    "              \"Denver Nuggets\":46 , \n",
    "              \"Memphis Grizzlies\": 22, \n",
    "              \"Miami Heat\":44, \n",
    "              \"Cleveland Cavaliers\": 50, \n",
    "              \"Charlotte Hornets\":36,\n",
    "              \"Chicago Bulls\": 27, \n",
    "              \"New York Knicks\": 29, \n",
    "              \"Indiana Pacers\":48 , \n",
    "              \"Utah Jazz\":48 , \n",
    "              \"Detroit Pistons\": 39, \n",
    "              \"Dallas Mavericks\": 24, \"Oklahoma City Thunder\": 48,  \n",
    "             }\n",
    "players = {}\n",
    "ids = {}\n",
    "teams = {}\n",
    "with open(\"data/players.json\") as f:\n",
    "    data = json.load(f)\n",
    "\n",
    "for row in data:\n",
    "    if (row['lastName'] == \"\"):\n",
    "        name = row[\"firstName\"]\n",
    "    else:\n",
    "        name = row['lastName']+\", \"+row[\"firstName\"]\n",
    "    iden = str(row['playerId'])\n",
    "    players[name] = iden\n",
    "    ids[iden] = name\n",
    "    teams[iden] = row['teamId']\n",
    "def degrees_passing(team_id, win):\n",
    "    deg = []\n",
    "    for name in players:\n",
    "        iden = players[name]\n",
    "        if (teams[iden] != team_id):\n",
    "            continue\n",
    "        if (win == True):\n",
    "            fname = \"data/\"+players[name]+\"-passing-win.json\"\n",
    "        elif (win == False):\n",
    "            fname = \"data/\"+players[name]+\"-passing-loss.json\"\n",
    "        else:\n",
    "            fname = \"data/\"+players[name]+\"-passing.json\"\n",
    "    \n",
    "        with open(fname, \"r\") as f:\n",
    "            data = json.load(f)\n",
    "        for key in data:\n",
    "            if (teams[key] != team_id):\n",
    "                continue\n",
    "            if (data[key][0] > 3):\n",
    "                deg.append(data[key][0])\n",
    " \n",
    "    return deg"
   ]
  },
  {
   "cell_type": "code",
   "execution_count": 15,
   "metadata": {},
   "outputs": [
    {
     "data": {
      "image/png": "[encoded data removed]",
      "text/plain": [
       "<Figure size 432x288 with 1 Axes>"
      ]
     },
     "metadata": {
      "needs_background": "light"
     },
     "output_type": "display_data"
    },
    {
     "data": {
      "image/png": "[encoded data removed]",
      "text/plain": [
       "<Figure size 432x288 with 1 Axes>"
      ]
     },
     "metadata": {
      "needs_background": "light"
     },
     "output_type": "display_data"
    }
   ],
   "source": [
    "deg = degrees_passing(franchises[\"Golden State Warriors\"], True)\n",
    "plt.hist(deg, bins=range(20))\n",
    "plt.show()\n",
    "deg = degrees_passing(franchises[\"Golden State Warriors\"], False)\n",
    "plt.hist(deg, bins=range(20))\n",
    "plt.show()"
   ]
  },
  {
   "cell_type": "code",
   "execution_count": 13,
   "metadata": {},
   "outputs": [
    {
     "data": {
      "image/png": "[encoded data removed]",
      "text/plain": [
       "<Figure size 432x288 with 1 Axes>"
      ]
     },
     "metadata": {
      "needs_background": "light"
     },
     "output_type": "display_data"
    },
    {
     "data": {
      "image/png": "[encoded data removed]",
      "text/plain": [
       "<Figure size 432x288 with 1 Axes>"
      ]
     },
     "metadata": {
      "needs_background": "light"
     },
     "output_type": "display_data"
    }
   ],
   "source": [
    "deg = degrees_passing(franchises[\"Cleveland Cavaliers\"], True)\n",
    "plt.hist(deg, bins=range(20))\n",
    "plt.show()\n",
    "deg = degrees_passing(franchises[\"Cleveland Cavaliers\"], False)\n",
    "plt.hist(deg, bins=range(20))\n",
    "plt.show()"
   ]
  },
  {
   "cell_type": "code",
   "execution_count": null,
   "metadata": {},
   "outputs": [],
   "source": []
  }
 ],
 "metadata": {
  "kernelspec": {
   "display_name": "Python 3",
   "language": "python",
   "name": "python3"
  },
  "language_info": {
   "codemirror_mode": {
    "name": "ipython",
    "version": 3
   },
   "file_extension": ".py",
   "mimetype": "text/x-python",
   "name": "python",
   "nbconvert_exporter": "python",
   "pygments_lexer": "ipython3",
   "version": "3.7.0"
  }
 },
 "nbformat": 4,
 "nbformat_minor": 2
}
