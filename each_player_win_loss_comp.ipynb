{
 "cells": [
  {
   "cell_type": "code",
   "execution_count": 2,
   "metadata": {},
   "outputs": [],
   "source": [
    "import numpy as np\n",
    "import matplotlib.pyplot as plt\n",
    "import json\n",
    "import networkx as nx"
   ]
  },
  {
   "cell_type": "code",
   "execution_count": 3,
   "metadata": {},
   "outputs": [],
   "source": [
    "players = {}\n",
    "ids = {}\n",
    "teams = {}\n",
    "with open(\"data/players.json\") as f:\n",
    "    data = json.load(f)\n",
    "\n",
    "for row in data:\n",
    "    if (row['lastName'] == \"\"):\n",
    "        name = row[\"firstName\"]\n",
    "    else:\n",
    "        name = row['lastName']+\", \"+row[\"firstName\"]\n",
    "    iden = str(row['playerId'])\n",
    "    players[name] = iden\n",
    "    ids[iden] = name\n",
    "    teams[iden] = row['teamId']\n",
    "\n",
    "franchises = {\"Brooklyn Nets\": 1610612751, \"Minnesota Timberwolves\":1610612750 ,\"Golden State Warriors\": 1610612744, \n",
    "              \"Los Angeles Clippers\": 1610612746, \"Los Angeles Lakers\": 1610612747, \"Washington Wizards\": 1610612764, \n",
    "              \"Milwaukee Bucks\": 1610612749, \"Toronto Raptors\": 1610612761, \"Philadelphia 76ers\": 1610612755 , \n",
    "              \"Boston Celtics\":1610612738 ,  \"Orlando Magic\": 1610612753, \"Atlanta Hawks\":1610612737,\n",
    "              \"Houston Rockets\": 1610612745 , \"San Antontio Spurs\":  1610612759, \"New Orleans Pelicans\": 1610612740, \n",
    "              \"Pheonix Suns\": 1610612756, \"Sacramento Kings\": 1610612758, \"Portland Trailblazers\": 1610612757, \n",
    "              \"Denver Nuggets\":1610612743 , \"Memphis Grizzlies\": 1610612763, \"Miami Heat\":1610612748, \n",
    "              \"Cleveland Cavaliers\": 1610612739, \"Charlotte Hornets\":1610612766, \"Chicago Bulls\": 1610612741, \n",
    "              \"New York Knicks\": 1610612752, \"Indiana Pacers\":1610612754 , \"Utah Jazz\":1610612762 , \n",
    "              \"Detroit Pistons\": 1610612765, \"Dallas Mavericks\": 1610612742, \"Oklahoma City Thunder\": 1610612760,  \n",
    "             }"
   ]
  },
  {
   "cell_type": "code",
   "execution_count": 4,
   "metadata": {},
   "outputs": [],
   "source": [
    "def passes_player(player_id):   \n",
    "    iden = player_id\n",
    "    name = ids[iden]\n",
    "\n",
    "    fname = \"data/\"+players[name]+\"-passing.json\"\n",
    "\n",
    "    with open(fname, \"r\") as f:\n",
    "        data = json.load(f)\n",
    "\n",
    "    passes = []\n",
    "    for key in data:\n",
    "        passes.append(data[key][0])\n",
    "            \n",
    "    return passes\n",
    "\n",
    "def assists_player(player_id):   \n",
    "    iden = player_id\n",
    "    name = ids[iden]\n",
    "\n",
    "    fname = \"data/\"+players[name]+\"-passing.json\"\n",
    "\n",
    "    with open(fname, \"r\") as f:\n",
    "        data = json.load(f)\n",
    "\n",
    "    passes = []\n",
    "    for key in data:\n",
    "        passes.append(data[key][1])\n",
    "            \n",
    "    return passes\n",
    "\n",
    "\n",
    "def passes_player_win_loss(player_id):   \n",
    "    iden = player_id\n",
    "    name = ids[iden]\n",
    "\n",
    "    fname_w = \"data/\"+players[name]+\"-passing-win.json\"\n",
    "    fname_l = \"data/\"+players[name]+\"-passing-loss.json\"\n",
    "\n",
    "    with open(fname_w, \"r\") as f:\n",
    "        data_w = json.load(f)\n",
    "    with open(fname_l, \"r\") as f:\n",
    "        data_l = json.load(f)\n",
    "        \n",
    "    diffs = []\n",
    "    for key in data_w:\n",
    "        if (key in data_l and data_w[key][0] > 5 and data_l[key][0] > 5):\n",
    "            diffs.append(data_w[key][0] - data_l[key][0])\n",
    "            \n",
    "    return diffs\n",
    "\n",
    "def assists_player_win_loss(player_id):   \n",
    "    iden = player_id\n",
    "    name = ids[iden]\n",
    "\n",
    "    fname_w = \"data/\"+players[name]+\"-passing-win.json\"\n",
    "    fname_l = \"data/\"+players[name]+\"-passing-loss.json\"\n",
    "\n",
    "    with open(fname_w, \"r\") as f:\n",
    "        data_w = json.load(f)\n",
    "    with open(fname_l, \"r\") as f:\n",
    "        data_l = json.load(f)\n",
    "        \n",
    "    diffs = []\n",
    "    for key in data_w:\n",
    "        if (key in data_l and data_w[key][1] > 0.5 and data_l[key][1] > 0.5):\n",
    "            diffs.append(data_w[key][1] - data_l[key][1])\n",
    "            \n",
    "    return diffs"
   ]
  },
  {
   "cell_type": "code",
   "execution_count": 5,
   "metadata": {},
   "outputs": [
    {
     "name": "stdout",
     "output_type": "stream",
     "text": [
      "0.11580706781279847\n"
     ]
    },
    {
     "data": {
      "image/png": "[encoded data removed]",
      "text/plain": [
       "<Figure size 432x288 with 1 Axes>"
      ]
     },
     "metadata": {
      "needs_background": "light"
     },
     "output_type": "display_data"
    }
   ],
   "source": [
    "passes = []\n",
    "for player in players:\n",
    "    passes.extend(passes_player(players[player]))\n",
    "plt.hist(passes)\n",
    "\n",
    "diff_g = len([l for l in passes if l > 3.5])\n",
    "print(diff_g/len(passes))"
   ]
  },
  {
   "cell_type": "code",
   "execution_count": 7,
   "metadata": {},
   "outputs": [
    {
     "name": "stdout",
     "output_type": "stream",
     "text": [
      "0.13670009551098378\n"
     ]
    },
    {
     "data": {
      "image/png": "[encoded data removed]",
      "text/plain": [
       "<Figure size 432x288 with 1 Axes>"
      ]
     },
     "metadata": {
      "needs_background": "light"
     },
     "output_type": "display_data"
    }
   ],
   "source": [
    "assists = []\n",
    "for player in players:\n",
    "    assists.extend(assists_player(players[player]))\n",
    "plt.hist(assists)\n",
    "\n",
    "diff_g = len([l for l in assists if l > 0.2])\n",
    "print(diff_g/len(assists))"
   ]
  },
  {
   "cell_type": "code",
   "execution_count": 120,
   "metadata": {},
   "outputs": [
    {
     "name": "stdout",
     "output_type": "stream",
     "text": [
      "433\n",
      "217\n"
     ]
    },
    {
     "data": {
      "image/png": "[encoded data removed]",
      "text/plain": [
       "<Figure size 432x288 with 1 Axes>"
      ]
     },
     "metadata": {
      "needs_background": "light"
     },
     "output_type": "display_data"
    }
   ],
   "source": [
    "diffs = []\n",
    "for player in players:\n",
    "    diffs.extend(passes_player_win_loss(players[player]))\n",
    "plt.hist(diffs)\n",
    "print(len(diffs))\n",
    "diff_g = len([l for l in diffs if l > 0])\n",
    "print(diff_g)"
   ]
  },
  {
   "cell_type": "code",
   "execution_count": 116,
   "metadata": {},
   "outputs": [
    {
     "name": "stdout",
     "output_type": "stream",
     "text": [
      "211\n",
      "125\n"
     ]
    },
    {
     "data": {
      "image/png": "[encoded data removed]",
      "text/plain": [
       "<Figure size 432x288 with 1 Axes>"
      ]
     },
     "metadata": {
      "needs_background": "light"
     },
     "output_type": "display_data"
    }
   ],
   "source": [
    "diffs = []\n",
    "for player in players:\n",
    "    diffs.extend(assists_player_win_loss(players[player]))\n",
    "plt.hist(diffs)\n",
    "print(len(diffs))\n",
    "diff_g = len([l for l in diffs if l > 0])\n",
    "print(diff_g)"
   ]
  },
  {
   "cell_type": "code",
   "execution_count": null,
   "metadata": {},
   "outputs": [],
   "source": []
  }
 ],
 "metadata": {
  "kernelspec": {
   "display_name": "Python 3",
   "language": "python",
   "name": "python3"
  },
  "language_info": {
   "codemirror_mode": {
    "name": "ipython",
    "version": 3
   },
   "file_extension": ".py",
   "mimetype": "text/x-python",
   "name": "python",
   "nbconvert_exporter": "python",
   "pygments_lexer": "ipython3",
   "version": "3.7.0"
  }
 },
 "nbformat": 4,
 "nbformat_minor": 2
}
