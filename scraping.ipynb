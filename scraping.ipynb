{
 "cells": [
  {
   "cell_type": "code",
   "execution_count": 28,
   "metadata": {},
   "outputs": [],
   "source": [
    "%matplotlib inline\n",
    "from selenium import webdriver\n",
    "from pandas import *\n",
    "import pandas\n",
    "import numpy as np\n",
    "import matplotlib.pyplot as plt\n",
    "import json"
   ]
  },
  {
   "cell_type": "code",
   "execution_count": 29,
   "metadata": {},
   "outputs": [],
   "source": [
    "path_to_chromedriver = '/Users/Rohan/Downloads/chromedriver'\n",
    "players = {}"
   ]
  },
  {
   "cell_type": "code",
   "execution_count": 30,
   "metadata": {},
   "outputs": [],
   "source": [
    "with open(\"data/players.json\") as f:\n",
    "    data = json.load(f)\n",
    "\n",
    "for row in data:\n",
    "    if (row['lastName'] == \"\"):\n",
    "        name = row[\"firstName\"]\n",
    "    else:\n",
    "        name = row['lastName']+\", \"+row[\"firstName\"]\n",
    "    players[name] = str(row['playerId'])\n",
    "\n",
    "def parse_table(table):\n",
    "    rows = table.text.split(\"\\n\")\n",
    "    passes={}\n",
    "    for i in range(2,len(rows),2):\n",
    "        data = rows[i+1].split(\" \")\n",
    "        passes[players[rows[i]]] = (float(data[2]),float(data[3]))\n",
    "    return passes"
   ]
  },
  {
   "cell_type": "code",
   "execution_count": 37,
   "metadata": {},
   "outputs": [],
   "source": [
    "for player in list(players.keys())[508:]:\n",
    "    player_id = players[player]\n",
    "    url = 'https://stats.nba.com/player/'+player_id+'/passes-dash/?Season=2017-18&SeasonType=Regular%20Season&sort=PASS&dir=1'\n",
    "    win_url = 'https://stats.nba.com/player/'+player_id+'/passes-dash/?Season=2017-18&SeasonType=Regular%20Season&sort=PASS&dir=1&Outcome=W'\n",
    "    loss_url = 'https://stats.nba.com/player/'+player_id+'/passes-dash/?Season=2017-18&SeasonType=Regular%20Season&sort=PASS&dir=1&Outcome=L'\n",
    "    browser = webdriver.Chrome(executable_path=path_to_chromedriver)\n",
    "    browser.get(url)\n",
    "    try:\n",
    "        data = parse_table(browser.find_element_by_class_name('nba-stat-table__overflow'))\n",
    "        with open(\"data/\"+player_id+\"-passing.json\", \"w\") as file:\n",
    "            json.dump(data, file)\n",
    "    except:\n",
    "        with open(\"data/\"+player_id+\"-passing.json\", \"w\") as file:\n",
    "            json.dump(\"\", file)\n",
    "    browser.quit()\n",
    "    browser = webdriver.Chrome(executable_path=path_to_chromedriver)\n",
    "    browser.get(win_url)\n",
    "    try:\n",
    "        data = parse_table(browser.find_element_by_class_name('nba-stat-table__overflow'))\n",
    "        with open(\"data/\"+player_id+\"-passing-win.json\", \"w\") as file:\n",
    "            json.dump(data, file)\n",
    "    except:\n",
    "        with open(\"data/\"+player_id+\"-passing-win.json\", \"w\") as file:\n",
    "            json.dump(\"\", file)\n",
    "    browser.quit()\n",
    "    browser = webdriver.Chrome(executable_path=path_to_chromedriver)\n",
    "    browser.get(loss_url)\n",
    "    try:\n",
    "        data = parse_table(browser.find_element_by_class_name('nba-stat-table__overflow'))\n",
    "        with open(\"data/\"+player_id+\"-passing-loss.json\", \"w\") as file:\n",
    "            json.dump(data, file)\n",
    "    except:\n",
    "        with open(\"data/\"+player_id+\"-passing-loss.json\", \"w\") as file:\n",
    "            json.dump(\"\", file)\n",
    "    browser.quit()"
   ]
  },
  {
   "cell_type": "code",
   "execution_count": null,
   "metadata": {},
   "outputs": [],
   "source": []
  }
 ],
 "metadata": {
  "kernelspec": {
   "display_name": "Python 3",
   "language": "python",
   "name": "python3"
  },
  "language_info": {
   "codemirror_mode": {
    "name": "ipython",
    "version": 3
   },
   "file_extension": ".py",
   "mimetype": "text/x-python",
   "name": "python",
   "nbconvert_exporter": "python",
   "pygments_lexer": "ipython3",
   "version": "3.7.0"
  }
 },
 "nbformat": 4,
 "nbformat_minor": 2
}
